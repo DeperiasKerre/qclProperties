{
 "cells": [
  {
   "cell_type": "code",
   "execution_count": 127,
   "id": "dade763b",
   "metadata": {},
   "outputs": [],
   "source": [
    "#libraries\n",
    "from chemdataextractor import Document\n",
    "from chemdataextractor.model import BaseModel, Compound, StringType, ModelType\n",
    "from chemdataextractor.model.units import TemperatureModel, LengthModel\n",
    "from chemdataextractor.parse import R, I, W, Optional, merge, join, AutoSentenceParser\n",
    "from chemdataextractor.doc import Paragraph, Heading, Sentence\n",
    "from pprint import pprint\n",
    "from lxml import etree\n",
    "from bs4 import BeautifulSoup "
   ]
  },
  {
   "cell_type": "code",
   "execution_count": 128,
   "id": "c53fe43d",
   "metadata": {},
   "outputs": [
    {
     "name": "stdout",
     "output_type": "stream",
     "text": [
      "<Document: 204 elements>\n"
     ]
    }
   ],
   "source": [
    "#reading the document\n",
    "with open('345.html', 'rb') as f:\n",
    "    doc = Document.from_file(f)\n",
    "print(doc)"
   ]
  },
  {
   "cell_type": "code",
   "execution_count": 130,
   "id": "611d4deb",
   "metadata": {},
   "outputs": [],
   "source": [
    "#document elements\n",
    "#doc.elements"
   ]
  },
  {
   "cell_type": "code",
   "execution_count": 131,
   "id": "92832cba",
   "metadata": {},
   "outputs": [
    {
     "data": {
      "text/plain": [
       "{'title': '3.4-THz quantum cascade laser based on longitudinal-optical-phonon scattering for depopulation', 'authors': ['Benjamin S.  Williams', 'Hans  Callebaut', 'Sushil  Kumar', 'Qing  Hu', 'John L.  Reno'], 'publisher': 'American Institute of PhysicsAIP', 'journal': 'Applied Physics Letters', 'date': '2003-02-17', 'volume': '82', 'issue': '7', 'firstpage': '1015', 'doi': '10.1063/1.1554479', 'pdf_url': 'https://aip.scitation.org/doi/pdf/10.1063/1.1554479', 'html_url': 'https://aip.scitation.org/doi/abs/10.1063/1.1554479'}"
      ]
     },
     "execution_count": 131,
     "metadata": {},
     "output_type": "execute_result"
    }
   ],
   "source": [
    "#Document Metadata\n",
    "doc.metadata"
   ]
  },
  {
   "cell_type": "code",
   "execution_count": 132,
   "id": "c9ab2aba",
   "metadata": {},
   "outputs": [],
   "source": [
    "#working temperature property model\n",
    "class WorkingTemperature(TemperatureModel):#inherits the temperature model to handle the units\n",
    "    \"\"\" A working temperature property\"\"\"\n",
    "    specifier_expr = ((I('heat')+I('-')+I('sink')+I('temperature')+I('of'))|(I('operating')+I('temperature'))|(I('operation')+I('temperature'))|(I('maximum')+I('temperature'))|(I('working')+I('temperature'))|(I('maximum')+I('heat')+I('-')+I('sink')+I('temperature'))|(I('temperatures')+I('up')+I('to'))|(I('lased')+I('up')+I('to'))).add_action(join)\n",
    "    specifier = StringType(parse_expression=specifier_expr,required=True, contextual=True)\n",
    "    compound = ModelType(Compound,required=False,contextual=True)\n",
    "    compound.model_class.fields['names'].required = False\n",
    "    parsers = [AutoSentenceParser()]"
   ]
  },
  {
   "cell_type": "code",
   "execution_count": 133,
   "id": "e94d59e5",
   "metadata": {},
   "outputs": [
    {
     "name": "stdout",
     "output_type": "stream",
     "text": [
      "[{'WorkingTemperature': {'compound': {'Compound': {'names': ['SIGN IN']}},\n",
      "                         'raw_units': 'K',\n",
      "                         'raw_value': '65',\n",
      "                         'specifier': 'temperatures up to',\n",
      "                         'units': 'Kelvin^(1.0)',\n",
      "                         'value': [65.0]}}]\n"
     ]
    }
   ],
   "source": [
    "#analyzing the whole document at once\n",
    "doc.models = [WorkingTemperature]\n",
    "results=doc.records.serialize()\n",
    "pprint(results)"
   ]
  },
  {
   "cell_type": "code",
   "execution_count": null,
   "id": "ba385a66",
   "metadata": {},
   "outputs": [],
   "source": [
    "#analyzing document at sentence level\n",
    "for i in doc.paragraphs:\n",
    "    for j in i.sentences:\n",
    "        j.models=[WorkingTemperature]\n",
    "        results=j.records.serialize()\n",
    "        pprint(results)"
   ]
  },
  {
   "cell_type": "code",
   "execution_count": 135,
   "id": "6cccc4a5",
   "metadata": {},
   "outputs": [],
   "source": [
    "#setting the Sentence parsers\n",
    "sentence_parser = AutoSentenceParser(lenient=True)\n",
    "sentence_parser.model = WorkingTemperature"
   ]
  },
  {
   "cell_type": "code",
   "execution_count": null,
   "id": "2cdfb7b7",
   "metadata": {},
   "outputs": [],
   "source": [
    "#analyzing the individual tokens\n",
    "for p in doc.paragraphs:\n",
    "    for s in p.sentences:\n",
    "        x=s.tagged_tokens\n",
    "        for result in sentence_parser.root.scan(x):\n",
    "            print(etree.tostring(result[0]), '\\n')\n",
    "        pprint(s.records.serialize())"
   ]
  }
 ],
 "metadata": {
  "kernelspec": {
   "display_name": "Python 3 (ipykernel)",
   "language": "python",
   "name": "python3"
  },
  "language_info": {
   "codemirror_mode": {
    "name": "ipython",
    "version": 3
   },
   "file_extension": ".py",
   "mimetype": "text/x-python",
   "name": "python",
   "nbconvert_exporter": "python",
   "pygments_lexer": "ipython3",
   "version": "3.7.9"
  }
 },
 "nbformat": 4,
 "nbformat_minor": 5
}
