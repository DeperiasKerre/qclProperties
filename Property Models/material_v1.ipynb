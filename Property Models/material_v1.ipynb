{
 "cells": [
  {
   "cell_type": "code",
   "execution_count": 1,
   "id": "1124bda4",
   "metadata": {},
   "outputs": [],
   "source": [
    "#libraries\n",
    "from chemdataextractor import Document\n",
    "from chemdataextractor.model import BaseModel, Compound, StringType, ModelType\n",
    "from chemdataextractor.model.units import TemperatureModel, LengthModel\n",
    "from chemdataextractor.parse import R, I, W, Optional, merge, join, AutoSentenceParser\n",
    "from chemdataextractor.doc import Paragraph, Heading, Sentence\n",
    "from lxml import etree\n",
    "from pprint import pprint"
   ]
  },
  {
   "cell_type": "code",
   "execution_count": 2,
   "id": "24b15255",
   "metadata": {},
   "outputs": [
    {
     "name": "stdout",
     "output_type": "stream",
     "text": [
      "<Document: 909 elements>\n"
     ]
    }
   ],
   "source": [
    "#reading the document\n",
    "with open('p1.html', 'rb') as f:\n",
    "    doc = Document.from_file(f)\n",
    "print(doc)"
   ]
  },
  {
   "cell_type": "code",
   "execution_count": 3,
   "id": "428b783a",
   "metadata": {},
   "outputs": [
    {
     "data": {
      "text/plain": [
       "{'title': '2.1 THz quantum-cascade laser operating up to 144 K based on a scattering-assisted injection design', 'authors': ['Sudeep Khanal', 'John L. Reno', 'Sushil Kumar'], 'publisher': 'Optica Publishing Group', 'journal': 'Optics Express', 'date': '2015/07/22', 'language': 'EN', 'volume': '23', 'issue': '15', 'firstpage': '19689', 'lastpage': '19697', 'doi': '10.1364/OE.23.019689', 'pdf_url': 'https://opg.optica.org/viewmedia.cfm?uri=oe-23-15-19689&seq=0', 'html_url': 'https://opg.optica.org/abstract.cfm?uri=oe-23-15-19689'}"
      ]
     },
     "execution_count": 3,
     "metadata": {},
     "output_type": "execute_result"
    }
   ],
   "source": [
    "#Document Metadata\n",
    "doc.metadata"
   ]
  },
  {
   "cell_type": "code",
   "execution_count": 4,
   "id": "62d07176",
   "metadata": {},
   "outputs": [],
   "source": [
    "#The qcl Heterostructure(material) property model\n",
    "class QCLHeterostructure(BaseModel):#inherits the compound model to parse material names\n",
    "    \"\"\" A QCL Heterostructure(Material) property model\"\"\"\n",
    "    specifier_expr =((I('laser')+I('structure'))|(I('design')+I('based')+I('on'))|(W('QW')+I('structure')+I('based')+I('on'))|I('growth')|I('system')|(I('material')+I('of')+I('choice')+I('is'))|(I('was')+I('grown')+I('in'))|(I('module')+I('grown')+I('in'))|(I('material')+I('system'))|(I('material')+I('systems'))|(I('material')+I('combination'))|I('wafer')|I('MBE')).add_action(join)\n",
    "    specifier = StringType(parse_expression=specifier_expr,required=True, contextual=True)\n",
    "    compound = ModelType(Compound,required=False,contextual=True)\n",
    "    #compound.model_class.fields['names'].required = False\n",
    "    parsers = [AutoSentenceParser()]"
   ]
  },
  {
   "cell_type": "code",
   "execution_count": 5,
   "id": "61df55b6",
   "metadata": {},
   "outputs": [
    {
     "name": "stdout",
     "output_type": "stream",
     "text": [
      "[{'QCLHeterostructure': {'compound': {'Compound': {'names': ['THz',\n",
      "                                                             'terahertz']}},\n",
      "                         'specifier': 'material system'}},\n",
      " {'QCLHeterostructure': {'compound': {'Compound': {'names': ['GaAs / '\n",
      "                                                             'Al0.15Ga0.85As']}},\n",
      "                         'specifier': 'material system'}},\n",
      " {'QCLHeterostructure': {'compound': {'Compound': {'names': ['THz',\n",
      "                                                             'terahertz']}},\n",
      "                         'specifier': 'growth'}},\n",
      " {'QCLHeterostructure': {'compound': {'Compound': {'names': ['SARP172']}},\n",
      "                         'specifier': 'wafer'}},\n",
      " {'QCLHeterostructure': {'compound': {'Compound': {'names': ['GaAs / '\n",
      "                                                             'Al0.15Ga0.85As']}},\n",
      "                         'specifier': 'was grown in'}},\n",
      " {'QCLHeterostructure': {'compound': {'Compound': {'names': ['Ta / Cu']}},\n",
      "                         'specifier': 'wafer'}},\n",
      " {'QCLHeterostructure': {'compound': {'Compound': {'labels': ['I'],\n",
      "                                                   'names': ['Hosako']}},\n",
      "                         'specifier': 'wafer'}},\n",
      " {'QCLHeterostructure': {'compound': {'Compound': {'names': ['GaAs / '\n",
      "                                                             'Al0.15Ga0.85As']}},\n",
      "                         'specifier': 'system'}}]\n"
     ]
    }
   ],
   "source": [
    "#analyzing the whole document at once\n",
    "doc.models = [QCLHeterostructure]\n",
    "results=doc.records.serialize()\n",
    "pprint(results)"
   ]
  },
  {
   "cell_type": "code",
   "execution_count": 6,
   "id": "afd413f0",
   "metadata": {},
   "outputs": [],
   "source": [
    "#setting the Sentence parsers\n",
    "sentence_parser = AutoSentenceParser(lenient=True)\n",
    "sentence_parser.model = QCLHeterostructure"
   ]
  },
  {
   "cell_type": "code",
   "execution_count": null,
   "id": "5e6e9cdd",
   "metadata": {},
   "outputs": [],
   "source": [
    "#analyzing the individual tokens\n",
    "for p in doc.paragraphs:\n",
    "    for s in p.sentences:\n",
    "        x=s.tagged_tokens\n",
    "        for result in sentence_parser.root.scan(x):\n",
    "            #print(etree.tostring(result[0]), '\\n')\n",
    "            pprint(s.records.serialize())"
   ]
  }
 ],
 "metadata": {
  "kernelspec": {
   "display_name": "Python 3 (ipykernel)",
   "language": "python",
   "name": "python3"
  },
  "language_info": {
   "codemirror_mode": {
    "name": "ipython",
    "version": 3
   },
   "file_extension": ".py",
   "mimetype": "text/x-python",
   "name": "python",
   "nbconvert_exporter": "python",
   "pygments_lexer": "ipython3",
   "version": "3.7.9"
  }
 },
 "nbformat": 4,
 "nbformat_minor": 5
}
