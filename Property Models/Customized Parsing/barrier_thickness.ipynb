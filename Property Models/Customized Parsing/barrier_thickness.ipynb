{
 "cells": [
  {
   "cell_type": "code",
   "execution_count": 1,
   "id": "593a5a7d",
   "metadata": {},
   "outputs": [],
   "source": [
    "#future imports\n",
    "from __future__ import absolute_import\n",
    "from __future__ import division\n",
    "from __future__ import print_function\n",
    "from __future__ import unicode_literals"
   ]
  },
  {
   "cell_type": "code",
   "execution_count": 2,
   "id": "d29f1ed8",
   "metadata": {},
   "outputs": [],
   "source": [
    "#libraries\n",
    "from chemdataextractor import Document\n",
    "from chemdataextractor.model import BaseModel, Compound, StringType, ModelType\n",
    "from chemdataextractor.parse import R, I, W, Optional, merge, join, AutoSentenceParser\n",
    "from chemdataextractor.parse.elements import W, I, R, Optional, Any, OneOrMore, Not, ZeroOrMore\n",
    "from chemdataextractor.doc import Paragraph, Heading, Sentence\n",
    "from lxml import etree\n",
    "from pprint import pprint"
   ]
  },
  {
   "cell_type": "code",
   "execution_count": 3,
   "id": "d0f3577e",
   "metadata": {},
   "outputs": [],
   "source": [
    "#Defining the BarrierThicknessModel to handle the sequence layer units and its conversions\n",
    "from chemdataextractor.model.units.dimension import Dimension\n",
    "from chemdataextractor.model.units.quantity_model import QuantityModel\n",
    "from chemdataextractor.model.units.unit import Unit\n",
    "import logging\n",
    "log = logging.getLogger(__name__)\n",
    "\n",
    "class barrierthickness(Dimension):\n",
    "    \"\"\"\n",
    "    Dimension subclass for the qcl barrier thickness.\n",
    "    \"\"\"\n",
    "    pass\n",
    "\n",
    "\n",
    "class BarrierThicknessModel(QuantityModel):\n",
    "    dimensions = barrierthickness()\n",
    "\n",
    "\n",
    "class barrierthicknessUnit(Unit):\n",
    "\n",
    "    def __init__(self, magnitude=0.0, powers=None):\n",
    "        super(barrierthicknessUnit, self).__init__(barrierthickness(), magnitude, powers)\n",
    "\n",
    "\n",
    "class Nanometers(barrierthicknessUnit):\n",
    "    \"\"\"\n",
    "    Class for barrier thickness in nanometers.\n",
    "    \"\"\"\n",
    "\n",
    "    def convert_value_to_standard(self, value):\n",
    "        return value\n",
    "\n",
    "    def convert_value_from_standard(self, value):\n",
    "        return value\n",
    "\n",
    "    def convert_error_to_standard(self, error):\n",
    "        return error\n",
    "\n",
    "    def convert_error_from_standard(self, error):\n",
    "        return error\n",
    "    \n",
    "class Angstrom(barrierthicknessUnit):\n",
    "    \"\"\"\n",
    "    Class for barrier thickness in nanometers.\n",
    "    \"\"\"\n",
    "\n",
    "    def convert_value_to_standard(self, value):\n",
    "        return value/10\n",
    "\n",
    "    def convert_value_from_standard(self, value):\n",
    "        return value*10\n",
    "    def convert_error_to_standard(self, error):\n",
    "        return error\n",
    "    \n",
    "    def convert_error_from_standard(self, error):\n",
    "        return error\n",
    "\n",
    "\n",
    "units_dict = {R('((nm|\\(nm\\)|(N|n)anometers))\\.?', group=0): Nanometers, R('Å|\\(Å\\)|((A|a)ngstrom)\\.?', group=0): Angstrom}\n",
    "barrierthickness.units_dict.update(units_dict)\n",
    "barrierthickness.standard_units = Nanometers()"
   ]
  },
  {
   "cell_type": "code",
   "execution_count": 4,
   "id": "04895a55",
   "metadata": {},
   "outputs": [],
   "source": [
    "#the qcl barrier thickness property model\n",
    "class QclBarrierThickness(BarrierThicknessModel):\n",
    "    value=StringType()"
   ]
  },
  {
   "cell_type": "code",
   "execution_count": 5,
   "id": "55b9c995",
   "metadata": {},
   "outputs": [],
   "source": [
    "#the possible combinations of the barrier thickness values with forwad slashes\n",
    "i=W('/')+R('^\\d+(\\.\\d+)?$')\n",
    "x2 = R('^\\d+(\\.\\d+)?$')+W('/')+R('^\\d+(\\.\\d+)?$')\n",
    "x5 = x2+x2+i\n",
    "x6=x2+W('/')+R('^\\d+(\\.\\d+)?$')+W('/')+R('^\\d+(\\.\\d+)?$')+W('/')+R('^\\d+(\\.\\d+)?$')+W('/')+R('^\\d+(\\.\\d+)?$')\n",
    "x7=x6+i\n",
    "x8 = x2+W('/')+R('^\\d+(\\.\\d+)?$')+W('/')+R('^\\d+(\\.\\d+)?$')+W('/')+R('^\\d+(\\.\\d+)?$')+W('/')+R('^\\d+(\\.\\d+)?$')+W('/')+R('^\\d+(\\.\\d+)?$')+W('/')+R('^\\d+(\\.\\d+)?$')\n",
    "x9 = x8+i\n",
    "x10=x9+i\n",
    "x11=x10+i\n",
    "x12=x11+i\n",
    "x13=x12+i\n",
    "x14=x13+i\n",
    "x15=x14+i\n",
    "x16=x15+i\n",
    "x17=x16+i\n",
    "x18=x17+i\n",
    "x19=x18+i\n",
    "x20=x19+i\n",
    "x21=x20+i\n",
    "x22=x21+i\n",
    "x23=x22+i\n",
    "x24=x23+i\n",
    "x25=x24+i"
   ]
  },
  {
   "cell_type": "code",
   "execution_count": 6,
   "id": "73bd0f87",
   "metadata": {},
   "outputs": [],
   "source": [
    "#differnt combinations of expressions for the different combination of values with forward slashes\n",
    "y5=x5+(W('nm')|W('Å')|W('(')+W('nm')+W(')')|W('Angstrom')+x5|W('nanomters')+x5|W('nanometer')+('is')+x5|W('nanomters')+ W('are')+x5|W('in')+W('Å')+ W('are')+x5)\n",
    "y6=x6+(W('nm')|W('Å')|W('(')+W('nm')+W(')')|W('Angstrom')+x6|W('nanomters')+x6|W('nanometer')+('is')+x6|W('nanomters')+ W('are')+x6|W('in')+W('Å')+ W('are')+x6)\n",
    "y7=x7+(W('nm')|W('Å')|W('(')+W('nm')+W(')')|W('Angstrom')+x7|W('nanomters')+x7|W('nanometer')+('is')+x7|W('nanomters')+ W('are')+x7|W('in')+W('Å')+ W('are')+x7)\n",
    "y8=x8+(W('nm')|W('Å')|W('(')+W('nm')+W(')')|W('Angstrom')+x8|W('nanomters')+x8|W('nanometer')+('is')+x8|W('nanomters')+ W('are')+x8|W('in')+W('Å')+ W('are')+x8)\n",
    "y9=x9+(W('nm')|W('Å')|W('(')+W('nm')+W(')')|W('Angstrom')+x9|W('nanomters')+x9|W('nanometer')+('is')+x9|W('nanomters')+ W('are')+x9|W('in')+W('Å')+ W('are')+x9)\n",
    "y10=x10+(W('nm')|W('Å')|W('(')+W('nm')+W(')')|W('Angstrom')+x10|W('nanomters')+x10|W('nanometer')+('is')+x10|W('nanomters')+ W('are')+x10|W('in')+W('Å')+ W('are')+x10)\n",
    "y11=x11+(W('nm')|W('Å')|W('(')+W('nm')+W(')')|W('Angstrom')+x11|W('nanomters')+x11|W('nanometer')+('is')+x11|W('nanomters')+ W('are')+x11|W('in')+W('Å')+ W('are')+x11)\n",
    "y12=x12+(W('nm')|W('Å')|W('(')+W('nm')+W(')')|W('Angstrom')+x12|W('nanomters')+x12|W('nanometer')+('is')+x12|W('nanomters')+ W('are')+x12|W('in')+W('Å')+ W('are')+x12)\n",
    "y13=x13+(W('nm')|W('Å')|W('(')+W('nm')+W(')')|W('Angstrom')+x13|W('nanomters')+x13|W('nanometer')+('is')+x13|W('nanomters')+ W('are')+x13|W('in')+W('Å')+ W('are')+x13)\n",
    "y14=x14+(W('nm')|W('Å')|W('(')+W('nm')+W(')')|W('Angstrom')+x14|W('nanomters')+x14|W('nanometer')+('is')+x14|W('nanomters')+ W('are')+x14|W('in')+W('Å')+ W('are')+x14)\n",
    "y15=x15+(W('nm')|W('Å')|W('(')+W('nm')+W(')')|W('Angstrom')+x15|W('nanomters')+x15|W('nanometer')+('is')+x15|W('nanomters')+ W('are')+x15|W('in')+W('Å')+ W('are')+x15)\n",
    "y16=x16+(W('nm')|W('Å')|W('(')+W('nm')+W(')')|W('Angstrom')+x16|W('nanomters')+x16|W('nanometer')+('is')+x16|W('nanomters')+ W('are')+x16|W('in')+W('Å')+ W('are')+x16)\n",
    "y17=x17+(W('nm')|W('Å')|W('(')+W('nm')+W(')')|W('Angstrom')+x17|W('nanomters')+x17|W('nanometer')+('is')+x17|W('nanomters')+ W('are')+x17|W('in')+W('Å')+ W('are')+x17)\n",
    "y18=x18+(W('nm')|W('Å')|W('(')+W('nm')+W(')')|W('Angstrom')+x18|W('nanomters')+x18|W('nanometer')+('is')+x18|W('nanomters')+ W('are')+x18|W('in')+W('Å')+ W('are')+x18)\n",
    "y19=x19+(W('nm')|W('Å')|W('(')+W('nm')+W(')')|W('Angstrom')+x19|W('nanomters')+x19|W('nanometer')+('is')+x19|W('nanomters')+ W('are')+x19|W('in')+W('Å')+ W('are')+x19)\n",
    "y20=x20+(W('nm')|W('Å')|W('(')+W('nm')+W(')')|W('Angstrom')+x20|W('nanomters')+x20|W('nanometer')+('is')+x20|W('nanomters')+ W('are')+x20|W('in')+W('Å')+ W('are')+x20)\n",
    "y21=x21+(W('nm')|W('Å')|W('(')+W('nm')+W(')')|W('Angstrom')+x21|W('nanomters')+x21|W('nanometer')+('is')+x21|W('nanomters')+ W('are')+x21|W('in')+W('Å')+ W('are')+x21)\n",
    "y22=x22+(W('nm')|W('Å')|W('(')+W('nm')+W(')')|W('Angstrom')+x22|W('nanomters')+x22|W('nanometer')+('is')+x22|W('nanomters')+ W('are')+x22|W('in')+W('Å')+ W('are')+x22)\n",
    "y23=x23+(W('nm')|W('Å')|W('(')+W('nm')+W(')')|W('Angstrom')+x23|W('nanomters')+x23|W('nanometer')+('is')+x23|W('nanomters')+ W('are')+x23|W('in')+W('Å')+ W('are')+x23)\n",
    "y24=x24+(W('nm')|W('Å')|W('(')+W('nm')+W(')')|W('Angstrom')+x24|W('nanomters')+x24|W('nanometer')+('is')+x24|W('nanomters')+ W('are')+x24|W('in')+W('Å')+ W('are')+x24)\n",
    "y25=x25+(W('nm')|W('Å')|W('(')+W('nm')+W(')')|W('Angstrom')+x25|W('nanomters')+x25|W('nanometer')+('is')+x25|W('nanomters')+ W('are')+x25|W('in')+W('Å')+ W('are')+x25)"
   ]
  },
  {
   "cell_type": "code",
   "execution_count": 7,
   "id": "6a0b915f",
   "metadata": {},
   "outputs": [],
   "source": [
    "#grammar rules for identifyimg the qcl barrier/sequence layer thickness\n",
    "import re\n",
    "from chemdataextractor.parse import R,I,W,Optional,merge,join\n",
    "prefix= (I('layer')+I('sequence')+I('in')+I('each')+I('stage')+I('of')+I('the')+I('active')+I('region')+I('is')|I('are')|I('and')|I('layer')+I('sequence')|I('layer')+I('thicknesses')+I('in')+I('Å')+I('are')|I('the')+I('layer')+I('thicknesses')+I('in')+I('nm')+I('(')+I('with')+I('barriers')+I('indicated')+I('in')+I('bold')+I('-')+I('face')+I('font')+I(')')+I('are')|I('the')+I('layer')+I('thickness')+I('in')+I('Å')+I('are')|I('the')+I('layer')+I('thickness')+I('in')+I('nm')+I('are')|I('the')+I('layer')+I('thicknesses')+I('in')+I('nanometer')+I('are')|I('layer')+I('thickness')+I('in')+I('nanometer')+I('is')|I('quantum')+I('structure')+I(',')+I('starting')+I('with')+I('an')+I('injector')+I('barrier')+I(',') +I('is')|I('injection')+I('barrier')+I('is')|I('starting')+I('from')+I('the')+I('widest')+I('well')+I('is')|I('active')+I('region')+I('is')+I('as')+I('following')+I(':')|I('materials')+I('are')|I('active')+I('region')+I('is')|I('layer')+I('thicknesses')+I('of')|I('in')+I('nanometers')+I('is')+I('(')+I('from') +I('right') +I('to') +I('left')+I(')')+I(':')|I('the')+I('thicknesses')+I('are')|I('thicknesses')+I('of')|I('nanometer')+I('is')|I('barrier')+I('is')).hide()\n",
    "p=(y5|y6|y7|y8|y9|y10|y11|y12|y13|y14|y15|y16|y17|y18|y19|y20|y21|y22|y23|y24|y25)\n",
    "prefix_value_unit=(prefix+(p))('prefix_value_unit').add_action(join)\n",
    "value_unit = (p)('value_unit').add_action(join)\n",
    "bt1=(prefix_value_unit)('bt1')\n",
    "bt2 =(value_unit)('bt2')"
   ]
  },
  {
   "cell_type": "code",
   "execution_count": 8,
   "id": "a31e4f8e",
   "metadata": {},
   "outputs": [],
   "source": [
    "#logic for parsing the qcl barrier/sequence layer thickness\n",
    "from chemdataextractor.parse.base import BaseSentenceParser\n",
    "from chemdataextractor.utils import first\n",
    "\n",
    "class qclthicknesslParser(BaseSentenceParser):\n",
    "    root = bt1|bt2\n",
    "\n",
    "    def interpret(self, result, start, end):\n",
    "        qcl_thickness = self.model(value=first(result.xpath('//text()')))\n",
    "        yield qcl_thickness"
   ]
  },
  {
   "cell_type": "code",
   "execution_count": 9,
   "id": "f1e6e75b",
   "metadata": {},
   "outputs": [],
   "source": [
    "#setting the parser and the property model\n",
    "QclBarrierThickness.parsers = [qclthicknesslParser()]\n",
    "sentence_parser = qclthicknesslParser\n",
    "sentence_parser.model = QclBarrierThickness"
   ]
  },
  {
   "cell_type": "code",
   "execution_count": 10,
   "id": "c53d94c3",
   "metadata": {},
   "outputs": [],
   "source": [
    "#sample sentences from journal papers\n",
    "s1=  Sentence('The layer sequence of one period for the active region is as following: 5.2/10.3/1.7/10.75/3.6/8.8/3.95/17.2 nm.')\n",
    "s2 = Sentence('The Al0.15Ga0.85As/GaAs layer sequence in each stage of the active region is 3.8/14.0/0.6/9.0/0.6/15.8/1.5/12.8/1.8/12.2/2.0/12.0/2.0/11.4/2.7/11.3/3.5/11.6 (nm).')\n",
    "s3 = Sentence('The improved structure has layer sequence 31/93/14/73.4/23/155.4/11/110.2/14/84.7/20/155.4/17/110.1 Å, where altered layers are highlighted in red (and italicized well is doped to 3.15 × 1016 cm−3).')"
   ]
  },
  {
   "cell_type": "code",
   "execution_count": 11,
   "id": "72a98073",
   "metadata": {},
   "outputs": [],
   "source": [
    "#specifying the model to be used for extracting the qcl barrier/sequence layer thickness\n",
    "s1.models = [QclBarrierThickness]\n",
    "s2.models = [QclBarrierThickness]\n",
    "s3.models = [QclBarrierThickness] "
   ]
  },
  {
   "cell_type": "code",
   "execution_count": 12,
   "id": "e8755752",
   "metadata": {},
   "outputs": [
    {
     "name": "stdout",
     "output_type": "stream",
     "text": [
      "[{'QclBarrierThickness': {'value': '5.2 / 10.3 / 1.7 / 10.75 / 3.6 / 8.8 / '\n",
      "                                   '3.95 / 17.2 nm'}}]\n"
     ]
    }
   ],
   "source": [
    "#analyzing sentence s1\n",
    "pprint(s1.records.serialize())"
   ]
  },
  {
   "cell_type": "code",
   "execution_count": 13,
   "id": "d247eaf2",
   "metadata": {},
   "outputs": [
    {
     "name": "stdout",
     "output_type": "stream",
     "text": [
      "b'<bt1>5.2 / 10.3 / 1.7 / 10.75 / 3.6 / 8.8 / 3.95 / 17.2 nm</bt1>' \n",
      "\n",
      "[{'QclBarrierThickness': {'value': '5.2 / 10.3 / 1.7 / 10.75 / 3.6 / 8.8 / '\n",
      "                                   '3.95 / 17.2 nm'}}]\n"
     ]
    }
   ],
   "source": [
    "#barrier/sequence layer thickness record in s1\n",
    "for result in sentence_parser.root.scan(s1.tagged_tokens):\n",
    "    print(etree.tostring(result[0]), '\\n')\n",
    "    pprint(s1.records.serialize())"
   ]
  },
  {
   "cell_type": "code",
   "execution_count": 14,
   "id": "2b11ea63",
   "metadata": {},
   "outputs": [
    {
     "name": "stdout",
     "output_type": "stream",
     "text": [
      "[{'QclBarrierThickness': {'value': '3.8 / 14.0 / 0.6 / 9.0 / 0.6 / 15.8 / 1.5 '\n",
      "                                   '/ 12.8 / 1.8 / 12.2 / 2.0 / 12.0 / 2.0 / '\n",
      "                                   '11.4 / 2.7 / 11.3 / 3.5 / 11.6 ( nm )'}}]\n"
     ]
    }
   ],
   "source": [
    "#analyzing sentence s2\n",
    "pprint(s2.records.serialize())"
   ]
  },
  {
   "cell_type": "code",
   "execution_count": 15,
   "id": "c4ac475f",
   "metadata": {},
   "outputs": [
    {
     "name": "stdout",
     "output_type": "stream",
     "text": [
      "b'<bt1>3.8 / 14.0 / 0.6 / 9.0 / 0.6 / 15.8 / 1.5 / 12.8 / 1.8 / 12.2 / 2.0 / 12.0 / 2.0 / 11.4 / 2.7 / 11.3 / 3.5 / 11.6 ( nm )</bt1>' \n",
      "\n",
      "[{'QclBarrierThickness': {'value': '3.8 / 14.0 / 0.6 / 9.0 / 0.6 / 15.8 / 1.5 '\n",
      "                                   '/ 12.8 / 1.8 / 12.2 / 2.0 / 12.0 / 2.0 / '\n",
      "                                   '11.4 / 2.7 / 11.3 / 3.5 / 11.6 ( nm )'}}]\n"
     ]
    }
   ],
   "source": [
    "#barrier/sequence layer thickness record in s2\n",
    "for result in sentence_parser.root.scan(s2.tagged_tokens):\n",
    "    print(etree.tostring(result[0]), '\\n')\n",
    "    pprint(s2.records.serialize())"
   ]
  },
  {
   "cell_type": "code",
   "execution_count": 16,
   "id": "0e1ae2a1",
   "metadata": {},
   "outputs": [
    {
     "name": "stdout",
     "output_type": "stream",
     "text": [
      "[{'QclBarrierThickness': {'value': '31 / 93 / 14 / 73.4 / 23 / 155.4 / 11 / '\n",
      "                                   '110.2 / 14 / 84.7 / 20 / 155.4 / 17 / '\n",
      "                                   '110.1 Å'}}]\n"
     ]
    }
   ],
   "source": [
    "#analyzing sentence s3\n",
    "pprint(s3.records.serialize())"
   ]
  },
  {
   "cell_type": "code",
   "execution_count": 17,
   "id": "70f10a19",
   "metadata": {},
   "outputs": [
    {
     "name": "stdout",
     "output_type": "stream",
     "text": [
      "b'<bt1>31 / 93 / 14 / 73.4 / 23 / 155.4 / 11 / 110.2 / 14 / 84.7 / 20 / 155.4 / 17 / 110.1 &#197;</bt1>' \n",
      "\n",
      "[{'QclBarrierThickness': {'value': '31 / 93 / 14 / 73.4 / 23 / 155.4 / 11 / '\n",
      "                                   '110.2 / 14 / 84.7 / 20 / 155.4 / 17 / '\n",
      "                                   '110.1 Å'}}]\n"
     ]
    }
   ],
   "source": [
    "#barrier/sequence layer thickness record in s3\n",
    "for result in sentence_parser.root.scan(s3.tagged_tokens):\n",
    "    print(etree.tostring(result[0]), '\\n')\n",
    "    pprint(s3.records.serialize())"
   ]
  },
  {
   "cell_type": "code",
   "execution_count": 18,
   "id": "471b6e32",
   "metadata": {},
   "outputs": [
    {
     "name": "stdout",
     "output_type": "stream",
     "text": [
      "<Document: 818 elements>\n"
     ]
    }
   ],
   "source": [
    "#reading a sample journal paper\n",
    "with open('p (32).html', 'rb') as f:\n",
    "    doc = Document.from_file(f)\n",
    "print(doc)"
   ]
  },
  {
   "cell_type": "code",
   "execution_count": 19,
   "id": "0ba835b2",
   "metadata": {},
   "outputs": [
    {
     "data": {
      "text/plain": [
       "{'title': 'Terahertz quantum cascade lasers with copper metal-metal waveguides operating up to 178 K', 'authors': ['Mikhail A. Belkin', 'Jonathan A. Fan', 'Sahand Hormoz', 'Federico Capasso', 'Suraj P. Khanna', 'Mohamed Lachab', 'A. Giles Davies', 'Edmund H. Linfield'], 'publisher': 'Optica Publishing Group', 'journal': 'Optics Express', 'date': '2008/02/25', 'language': 'EN', 'volume': '16', 'issue': '5', 'firstpage': '3242', 'lastpage': '3248', 'doi': '10.1364/OE.16.003242', 'pdf_url': 'https://opg.optica.org/viewmedia.cfm?uri=oe-16-5-3242&seq=0', 'html_url': 'https://opg.optica.org/abstract.cfm?uri=oe-16-5-3242'}"
      ]
     },
     "execution_count": 19,
     "metadata": {},
     "output_type": "execute_result"
    }
   ],
   "source": [
    "#Document Metadata\n",
    "doc.metadata"
   ]
  },
  {
   "cell_type": "code",
   "execution_count": 20,
   "id": "47904e07",
   "metadata": {},
   "outputs": [],
   "source": [
    "#document elements\n",
    "#doc.elements"
   ]
  },
  {
   "cell_type": "code",
   "execution_count": 21,
   "id": "ee71582b",
   "metadata": {},
   "outputs": [],
   "source": [
    "#setting the property model for the document\n",
    "doc.models = [QclBarrierThickness]"
   ]
  },
  {
   "cell_type": "code",
   "execution_count": 22,
   "id": "eb953792",
   "metadata": {},
   "outputs": [
    {
     "name": "stdout",
     "output_type": "stream",
     "text": [
      "[{'QclBarrierThickness': {'value': '48 / 96 / 20 / 74 / 42 / 161 Å'}},\n",
      " {'QclBarrierThickness': {'value': '49 / 79 / 25 / 66 / 41 / 156 / 33 / 90 Å'}}]\n",
      "[{'QclBarrierThickness': {'value': '48 / 96 / 20 / 74 / 42 / 161 Å'}},\n",
      " {'QclBarrierThickness': {'value': '49 / 79 / 25 / 66 / 41 / 156 / 33 / 90 Å'}}]\n",
      "[{'QclBarrierThickness': {'value': '48 / 96 / 20 / 74 / 42 / 161 Å'}},\n",
      " {'QclBarrierThickness': {'value': '49 / 79 / 25 / 66 / 41 / 156 / 33 / 90 Å'}}]\n",
      "[{'QclBarrierThickness': {'value': '48 / 96 / 20 / 74 / 42 / 161 Å'}},\n",
      " {'QclBarrierThickness': {'value': '49 / 79 / 25 / 66 / 41 / 156 / 33 / 90 Å'}}]\n"
     ]
    }
   ],
   "source": [
    "#analyzing the individual tokens in the document and extracting the qcl material  record\n",
    "for p in doc.paragraphs:\n",
    "    for s in p.sentences:\n",
    "        x=s.tagged_tokens\n",
    "        for result in sentence_parser.root.scan(x):\n",
    "            #print(etree.tostring(result[0]), '\\n')\n",
    "            pprint(s.records.serialize())"
   ]
  }
 ],
 "metadata": {
  "kernelspec": {
   "display_name": "Python 3 (ipykernel)",
   "language": "python",
   "name": "python3"
  },
  "language_info": {
   "codemirror_mode": {
    "name": "ipython",
    "version": 3
   },
   "file_extension": ".py",
   "mimetype": "text/x-python",
   "name": "python",
   "nbconvert_exporter": "python",
   "pygments_lexer": "ipython3",
   "version": "3.7.9"
  }
 },
 "nbformat": 4,
 "nbformat_minor": 5
}
