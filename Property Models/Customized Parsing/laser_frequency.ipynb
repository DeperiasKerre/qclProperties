{
 "cells": [
  {
   "cell_type": "code",
   "execution_count": 1,
   "id": "31f3a372",
   "metadata": {},
   "outputs": [],
   "source": [
    "#future imports\n",
    "from __future__ import absolute_import\n",
    "from __future__ import division\n",
    "from __future__ import print_function\n",
    "from __future__ import unicode_literals"
   ]
  },
  {
   "cell_type": "code",
   "execution_count": 2,
   "id": "14e38181",
   "metadata": {},
   "outputs": [],
   "source": [
    "#libraries\n",
    "from chemdataextractor import Document\n",
    "from chemdataextractor.model import BaseModel, Compound, StringType, ModelType\n",
    "from chemdataextractor.model.units import TemperatureModel, LengthModel\n",
    "from chemdataextractor.parse import R, I, W, Optional, merge, join, AutoSentenceParser\n",
    "from chemdataextractor.parse.elements import W, I, R, Optional, Any, OneOrMore, Not, ZeroOrMore\n",
    "from chemdataextractor.doc import Paragraph, Heading, Sentence\n",
    "from lxml import etree\n",
    "from pprint import pprint"
   ]
  },
  {
   "cell_type": "code",
   "execution_count": 3,
   "id": "af55e61f",
   "metadata": {},
   "outputs": [],
   "source": [
    "#Defining the frequency model to handle the frequency units and its conversions\n",
    "from chemdataextractor.model.units.dimension import Dimension\n",
    "from chemdataextractor.model.units.quantity_model import QuantityModel\n",
    "from chemdataextractor.model.units.unit import Unit\n",
    "\n",
    "import logging\n",
    "log = logging.getLogger(__name__)\n",
    "\n",
    "class Frequency(Dimension):\n",
    "    \"\"\"\n",
    "    Dimension subclass for frequencies.\n",
    "    \"\"\"\n",
    "    pass\n",
    "\n",
    "\n",
    "class FrequencyModel(QuantityModel):\n",
    "    dimensions = Frequency()\n",
    "\n",
    "\n",
    "class FrequencyUnit(Unit):\n",
    "\n",
    "    def __init__(self, magnitude=0.0, powers=None):\n",
    "        super(FrequencyUnit, self).__init__(Frequency(), magnitude, powers)\n",
    "\n",
    "\n",
    "class Hertz(FrequencyUnit):\n",
    "\n",
    "    def convert_value_to_standard(self, value):\n",
    "        return value\n",
    "\n",
    "    def convert_value_from_standard(self, value):\n",
    "        return value\n",
    "\n",
    "    def convert_error_to_standard(self, error):\n",
    "        return error\n",
    "\n",
    "    def convert_error_from_standard(self, error):\n",
    "        return error\n",
    "    \n",
    "class Megahertz(FrequencyUnit):\n",
    "    \"\"\"\n",
    "    Class for frequency in Megahertz\n",
    "    \"\"\"\n",
    "\n",
    "    def convert_value_to_standard(self, value):\n",
    "        return value*1000000\n",
    "\n",
    "    def convert_value_from_standard(self, value):\n",
    "        return value/1000000\n",
    "    def convert_error_to_standard(self, error):\n",
    "        return error\n",
    "\n",
    "    def convert_error_from_standard(self, error):\n",
    "        return error\n",
    "    \n",
    "class Terahertz(FrequencyUnit):\n",
    "    \"\"\"\n",
    "    Class for frequency in Terahertz\n",
    "    \"\"\"\n",
    "\n",
    "    def convert_value_to_standard(self, value):\n",
    "        return value*1000000000000\n",
    "\n",
    "    def convert_value_from_standard(self, value):\n",
    "        return value/1000000000000\n",
    "    def convert_error_to_standard(self, error):\n",
    "        return error\n",
    "\n",
    "    def convert_error_from_standard(self, error):\n",
    "        return error\n",
    "\n",
    "units_dict = {R('((Hz|(H|h)ertz))\\.?', group=0): Hertz, R('mHz|((m|M)ega(H|h)ertz)\\.?', group=0): Megahertz, R('THz|((t|T)era(H|h)ertz)\\.?', group=0): Terahertz}\n",
    "Frequency.units_dict.update(units_dict)\n",
    "Frequency.standard_units = Hertz()"
   ]
  },
  {
   "cell_type": "code",
   "execution_count": 4,
   "id": "7003007c",
   "metadata": {},
   "outputs": [],
   "source": [
    "#the lasing frequency property model\n",
    "from chemdataextractor.model.units import TemperatureModel, Temperature, Kelvin\n",
    "from chemdataextractor.model import ListType, ModelType, StringType, Compound\n",
    "from chemdataextractor.parse import I, AutoSentenceParser, join\n",
    "\n",
    "class LasingFrequency(FrequencyModel):\n",
    "    value = StringType()\n",
    "    units = StringType(contextual=True)"
   ]
  },
  {
   "cell_type": "code",
   "execution_count": 5,
   "id": "90110bda",
   "metadata": {},
   "outputs": [],
   "source": [
    "#grammar rules for identifyimg the lasing frequency\n",
    "import re\n",
    "from chemdataextractor.parse import R, I, W, Optional, merge\n",
    "\n",
    "prefix = prefix = (I('lasing')+I('frequency')+I('of')|I('lasing')+I('predominantly')+I('at')+I('a')+I('frequency')+I('of')|I('cutoff')+I('frequency')+I('of')|I('centered')+I('around')|I('emmission')+I('frequency')+I('of')|I('corresponding')+I('to') |I('operating')+I('predominantly')+I('at')| I('broad') + I('spectral')+I('range')+I('between')).hide()\n",
    "units = (W('Hz')|W('mHz')|'THz')('units').add_action(merge)\n",
    "value = R('^\\d+(\\.\\d+)?$')('value')\n",
    "lf = (prefix + value + units)('lf')"
   ]
  },
  {
   "cell_type": "code",
   "execution_count": 6,
   "id": "0fee162b",
   "metadata": {},
   "outputs": [],
   "source": [
    "#the logic for parsing the lasing frequency value\n",
    "from chemdataextractor.parse.base import BaseSentenceParser\n",
    "from chemdataextractor.utils import first\n",
    "from lxml import etree\n",
    "\n",
    "class LfParser(BaseSentenceParser):\n",
    "    root = lf\n",
    "\n",
    "    def interpret(self, result, start, end):\n",
    "        raw_value = first(result.xpath('./value/text()'))\n",
    "        raw_units = first(result.xpath('./units/text()'))\n",
    "        lasing_frequency = self.model(raw_value=raw_value,\n",
    "                    raw_units=raw_units,\n",
    "                    value=self.extract_value(raw_value),\n",
    "                    error=self.extract_error(raw_value),\n",
    "                    units=self.extract_units(raw_units, strict=True))\n",
    "        yield lasing_frequency"
   ]
  },
  {
   "cell_type": "code",
   "execution_count": 7,
   "id": "2817c9f5",
   "metadata": {},
   "outputs": [],
   "source": [
    "#setting the parser and the property model\n",
    "LasingFrequency.parsers = [LfParser()]\n",
    "sentence_parser = LfParser\n",
    "sentence_parser.model = LasingFrequency"
   ]
  },
  {
   "cell_type": "code",
   "execution_count": 8,
   "id": "0d9ccfdd",
   "metadata": {},
   "outputs": [],
   "source": [
    "#sample sentences from the qcl journals\n",
    "s1 = Sentence('We report terahertz quantum-cascade lasers operating predominantly at 1.90 THz')\n",
    "s2 = Sentence('We report the development of a quantum cascade laser, at l587.2 mm, corresponding to 3.44 THz or 14.2 meV photon energy.')"
   ]
  },
  {
   "cell_type": "code",
   "execution_count": 9,
   "id": "52ebe09d",
   "metadata": {},
   "outputs": [],
   "source": [
    "#specifying the model to be used for extracting the lasing frequency values\n",
    "s1.models = [LasingFrequency]\n",
    "s2.models = [LasingFrequency]"
   ]
  },
  {
   "cell_type": "code",
   "execution_count": 10,
   "id": "a1e74139",
   "metadata": {},
   "outputs": [
    {
     "name": "stdout",
     "output_type": "stream",
     "text": [
      "b'<lf><value>1.90</value><units>THz</units></lf>' \n",
      "\n",
      "[{'LasingFrequency': {'raw_units': 'THz',\n",
      "                      'raw_value': '1.90',\n",
      "                      'units': 'Terahertz^(1.0)',\n",
      "                      'value': '[1.9]'}}]\n"
     ]
    }
   ],
   "source": [
    "#frequency record in s1\n",
    "for result in sentence_parser.root.scan(s1.tagged_tokens):\n",
    "    print(etree.tostring(result[0]), '\\n')\n",
    "    pprint(s1.records.serialize())"
   ]
  },
  {
   "cell_type": "code",
   "execution_count": 11,
   "id": "242e55b0",
   "metadata": {},
   "outputs": [
    {
     "name": "stdout",
     "output_type": "stream",
     "text": [
      "b'<lf><value>1.90</value><units>THz</units></lf>' \n",
      "\n",
      "[{'LasingFrequency': {'raw_units': 'THz',\n",
      "                      'raw_value': '3.44',\n",
      "                      'units': 'Terahertz^(1.0)',\n",
      "                      'value': '[3.44]'}}]\n"
     ]
    }
   ],
   "source": [
    "#frequency record in s2\n",
    "for result in sentence_parser.root.scan(s1.tagged_tokens):\n",
    "    print(etree.tostring(result[0]), '\\n')\n",
    "    pprint(s2.records.serialize())"
   ]
  },
  {
   "cell_type": "code",
   "execution_count": 12,
   "id": "2957280f",
   "metadata": {},
   "outputs": [
    {
     "name": "stdout",
     "output_type": "stream",
     "text": [
      "<Document: 510 elements>\n"
     ]
    }
   ],
   "source": [
    "#reading a sample journal paper\n",
    "with open('345.html', 'rb') as f:\n",
    "    doc = Document.from_file(f)\n",
    "print(doc)"
   ]
  },
  {
   "cell_type": "code",
   "execution_count": 13,
   "id": "8437c5ed",
   "metadata": {},
   "outputs": [
    {
     "data": {
      "text/plain": [
       "{'title': '3.4-THz quantum cascade laser based on longitudinal-optical-phonon scattering for depopulation', 'authors': ['Williams, Benjamin S.', 'Callebaut, Hans', 'Kumar, Sushil', 'Hu, Qing', 'Reno, John L.'], 'publisher': 'AIP Publishing', 'journal': 'Applied Physics Letters', 'volume': '82', 'issue': '7', 'firstpage': '1015', 'lastpage': '1017', 'doi': '10.1063/1.1554479', 'pdf_url': 'https://pubs.aip.org/aip/apl/article-pdf/82/7/1015/12225149/1015_1_online.pdf'}"
      ]
     },
     "execution_count": 13,
     "metadata": {},
     "output_type": "execute_result"
    }
   ],
   "source": [
    "#Document Metadata\n",
    "doc.metadata"
   ]
  },
  {
   "cell_type": "code",
   "execution_count": 14,
   "id": "f98b33a5",
   "metadata": {},
   "outputs": [],
   "source": [
    "#document elements\n",
    "#doc.elements"
   ]
  },
  {
   "cell_type": "code",
   "execution_count": 15,
   "id": "793e879b",
   "metadata": {},
   "outputs": [],
   "source": [
    "#setting the property model for the document\n",
    "doc.models = [LasingFrequency]"
   ]
  },
  {
   "cell_type": "code",
   "execution_count": 16,
   "id": "947c6275",
   "metadata": {},
   "outputs": [
    {
     "name": "stdout",
     "output_type": "stream",
     "text": [
      "b'<lf><value>3.44</value><units>THz</units></lf>' \n",
      "\n",
      "[{'LasingFrequency': {'raw_units': 'THz',\n",
      "                      'raw_value': '3.44',\n",
      "                      'units': 'Terahertz^(1.0)',\n",
      "                      'value': '[3.44]'}}]\n"
     ]
    }
   ],
   "source": [
    "#analyzing the individual tokens in the document and extracting the frequency record\n",
    "for p in doc.paragraphs:\n",
    "    for s in p.sentences:\n",
    "        x=s.tagged_tokens\n",
    "        for result in sentence_parser.root.scan(x):\n",
    "            print(etree.tostring(result[0]), '\\n')\n",
    "            pprint(s.records.serialize())"
   ]
  },
  {
   "cell_type": "code",
   "execution_count": 17,
   "id": "07693b23",
   "metadata": {},
   "outputs": [
    {
     "name": "stdout",
     "output_type": "stream",
     "text": [
      "[{'LasingFrequency': {'raw_units': 'THz',\n",
      "                      'raw_value': '3.44',\n",
      "                      'units': 'Terahertz^(1.0)',\n",
      "                      'value': '[3.44]'}}]\n"
     ]
    }
   ],
   "source": [
    "#analyzing the whole document tokens at once\n",
    "doc.models = [LasingFrequency]\n",
    "results=doc.records.serialize()\n",
    "pprint(results)"
   ]
  }
 ],
 "metadata": {
  "kernelspec": {
   "display_name": "Python 3 (ipykernel)",
   "language": "python",
   "name": "python3"
  },
  "language_info": {
   "codemirror_mode": {
    "name": "ipython",
    "version": 3
   },
   "file_extension": ".py",
   "mimetype": "text/x-python",
   "name": "python",
   "nbconvert_exporter": "python",
   "pygments_lexer": "ipython3",
   "version": "3.8.16"
  }
 },
 "nbformat": 4,
 "nbformat_minor": 5
}
