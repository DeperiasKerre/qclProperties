{
 "cells": [
  {
   "cell_type": "code",
   "execution_count": 1,
   "id": "ea942055",
   "metadata": {},
   "outputs": [],
   "source": [
    "#libraries\n",
    "from chemdataextractor import Document\n",
    "from chemdataextractor.model import Compound,BaseModel\n",
    "from chemdataextractor.doc import Paragraph, Heading,Sentence\n",
    "from pprint import pprint"
   ]
  },
  {
   "cell_type": "code",
   "execution_count": 2,
   "id": "d1ebefd2",
   "metadata": {},
   "outputs": [],
   "source": [
    "#working temperature property model\n",
    "from chemdataextractor.model.units import TemperatureModel, Temperature, Kelvin\n",
    "from chemdataextractor.model import ListType, ModelType, StringType, Compound\n",
    "from chemdataextractor.parse import I, AutoSentenceParser, join\n",
    "\n",
    "class WorkingTemperature(TemperatureModel):\n",
    "    value = StringType()\n",
    "    units = StringType(contextual=True)"
   ]
  },
  {
   "cell_type": "code",
   "execution_count": 3,
   "id": "61586616",
   "metadata": {},
   "outputs": [],
   "source": [
    "#grammar rules for identifyimg the the working temperature\n",
    "import re\n",
    "from chemdataextractor.parse import R, I, W, Optional, merge\n",
    "\n",
    "prefix = (I('Tmax') +I('of') |I('(')+I('Tmax')+I(')')+I('of')|I('operating')+I('temperature')+I('of')|I('characteristic')+I('temperature')+I('To')+I('=')| (R('^\\(T.*max\\)$', re.I)+ I('of')) |I('pulsed')+ I('mode') +I('at') + I('temperatures') + I('up')+I('to')|I('working')+I('temperature')+I('of')| I('maximum')+ I('operation') + I('temperature') + I('of')| (I('heat')+ I('-')+I('sink')+I('temperature')+ I('of'))).hide()\n",
    "units = (Optional(W('°')) + Optional(R('^°?[CFK]\\.?$')))('units').add_action(merge)\n",
    "value = R('^\\d+(\\.\\d+)?$')('value')\n",
    "wt = (prefix + value + units)('wt')"
   ]
  },
  {
   "cell_type": "code",
   "execution_count": 4,
   "id": "66922327",
   "metadata": {},
   "outputs": [],
   "source": [
    "#the logic for parsing the temperature value\n",
    "from chemdataextractor.parse.base import BaseSentenceParser\n",
    "from chemdataextractor.utils import first\n",
    "from lxml import etree\n",
    "\n",
    "class WtParser(BaseSentenceParser):\n",
    "    root = wt\n",
    "\n",
    "    def interpret(self, result, start, end):\n",
    "        raw_value = first(result.xpath('./value/text()'))\n",
    "        raw_units = first(result.xpath('./units/text()'))\n",
    "        working_temp = self.model(raw_value=raw_value,\n",
    "                    raw_units=raw_units,\n",
    "                    value=self.extract_value(raw_value),\n",
    "                    error=self.extract_error(raw_value),\n",
    "                    units=self.extract_units(raw_units, strict=True))\n",
    "        cem_el = first(result.xpath('./cem'))\n",
    "        if cem_el is not None:\n",
    "            working_temp.compound = Compound()\n",
    "            working_temp.compound.names = cem_el.xpath('./name/text()')\n",
    "            working_temp.compound.labels = cem_el.xpath('./label/text()')\n",
    "        yield working_temp"
   ]
  },
  {
   "cell_type": "code",
   "execution_count": 5,
   "id": "425d2c04",
   "metadata": {},
   "outputs": [],
   "source": [
    "#adding the defined temperature parser(logic) to the working temperature property model\n",
    "WorkingTemperature.parsers = [WtParser()]"
   ]
  },
  {
   "cell_type": "code",
   "execution_count": 6,
   "id": "d3feaa4c",
   "metadata": {},
   "outputs": [],
   "source": [
    "#sample sentences from the qcl journals\n",
    "s1=  Sentence('A large current density dynamic range is observed, leading to a maximum operation temperature of 150 K for the double metal waveguide device')\n",
    "s2 = Sentence('The laser operated up to a heat-sink temperature of 110K in pulsed mode, 95K in continuous wave (cw) mode, and the threshold current density at 5K was ∼140A∕cm2.')\n",
    "s3 = Sentence('In pulsed operation, the device lased up to a maximum heat-sink temperature (Tmax) of 111K. The threshold current density (Jth) at 6K was 142A∕cm2. ')"
   ]
  },
  {
   "cell_type": "code",
   "execution_count": 14,
   "id": "97eb6011",
   "metadata": {},
   "outputs": [],
   "source": [
    "#specifying the model to be used for extracting the temperature values\n",
    "s1.models = [WorkingTemperature]\n",
    "s2.models = [WorkingTemperature]\n",
    "s3.models = [WorkingTemperature] "
   ]
  },
  {
   "cell_type": "code",
   "execution_count": 8,
   "id": "c8bc84b0",
   "metadata": {},
   "outputs": [
    {
     "name": "stdout",
     "output_type": "stream",
     "text": [
      "[{'WorkingTemperature': {'raw_units': 'K',\n",
      "                         'raw_value': '150',\n",
      "                         'units': 'Kelvin^(1.0)',\n",
      "                         'value': '[150.0]'}}]\n"
     ]
    }
   ],
   "source": [
    "pprint(s1.records.serialize())"
   ]
  },
  {
   "cell_type": "code",
   "execution_count": 9,
   "id": "90442c6e",
   "metadata": {},
   "outputs": [
    {
     "name": "stdout",
     "output_type": "stream",
     "text": [
      "[{'WorkingTemperature': {'raw_units': 'K',\n",
      "                         'raw_value': '110',\n",
      "                         'units': 'Kelvin^(1.0)',\n",
      "                         'value': '[110.0]'}}]\n"
     ]
    }
   ],
   "source": [
    "pprint(s2.records.serialize())"
   ]
  },
  {
   "cell_type": "code",
   "execution_count": 10,
   "id": "4a67c001",
   "metadata": {},
   "outputs": [
    {
     "name": "stdout",
     "output_type": "stream",
     "text": [
      "[{'WorkingTemperature': {'raw_units': 'K.',\n",
      "                         'raw_value': '111',\n",
      "                         'units': 'Kelvin^(1.0)',\n",
      "                         'value': '[111.0]'}}]\n"
     ]
    }
   ],
   "source": [
    "pprint(s3.records.serialize())"
   ]
  },
  {
   "cell_type": "code",
   "execution_count": 11,
   "id": "fa07d18f",
   "metadata": {},
   "outputs": [
    {
     "name": "stdout",
     "output_type": "stream",
     "text": [
      "<Document: 204 elements>\n"
     ]
    }
   ],
   "source": [
    "#reading a sample journal paper\n",
    "with open('345.html', 'rb') as f:\n",
    "    doc = Document.from_file(f)\n",
    "print(doc)"
   ]
  },
  {
   "cell_type": "code",
   "execution_count": 12,
   "id": "86470157",
   "metadata": {},
   "outputs": [
    {
     "data": {
      "text/plain": [
       "{'title': '3.4-THz quantum cascade laser based on longitudinal-optical-phonon scattering for depopulation', 'authors': ['Benjamin S.  Williams', 'Hans  Callebaut', 'Sushil  Kumar', 'Qing  Hu', 'John L.  Reno'], 'publisher': 'American Institute of PhysicsAIP', 'journal': 'Applied Physics Letters', 'date': '2003-02-17', 'volume': '82', 'issue': '7', 'firstpage': '1015', 'doi': '10.1063/1.1554479', 'pdf_url': 'https://aip.scitation.org/doi/pdf/10.1063/1.1554479', 'html_url': 'https://aip.scitation.org/doi/abs/10.1063/1.1554479'}"
      ]
     },
     "execution_count": 12,
     "metadata": {},
     "output_type": "execute_result"
    }
   ],
   "source": [
    "#Document Metadata\n",
    "doc.metadata"
   ]
  },
  {
   "cell_type": "code",
   "execution_count": 13,
   "id": "72741b52",
   "metadata": {},
   "outputs": [
    {
     "name": "stdout",
     "output_type": "stream",
     "text": [
      "[{'WorkingTemperature': {'raw_units': 'K',\n",
      "                         'raw_value': '65',\n",
      "                         'units': 'Kelvin^(1.0)',\n",
      "                         'value': '[65.0]'}}]\n"
     ]
    }
   ],
   "source": [
    "#Extracting the temperature property from the document\n",
    "doc.models = [WorkingTemperature]\n",
    "results=doc.records.serialize()\n",
    "pprint(results)"
   ]
  }
 ],
 "metadata": {
  "kernelspec": {
   "display_name": "Python 3 (ipykernel)",
   "language": "python",
   "name": "python3"
  },
  "language_info": {
   "codemirror_mode": {
    "name": "ipython",
    "version": 3
   },
   "file_extension": ".py",
   "mimetype": "text/x-python",
   "name": "python",
   "nbconvert_exporter": "python",
   "pygments_lexer": "ipython3",
   "version": "3.7.9"
  }
 },
 "nbformat": 4,
 "nbformat_minor": 5
}
