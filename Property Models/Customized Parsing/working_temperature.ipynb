{
 "cells": [
  {
   "cell_type": "code",
   "execution_count": 79,
   "id": "c07c6405",
   "metadata": {},
   "outputs": [],
   "source": [
    "#libraries\n",
    "from chemdataextractor import Document\n",
    "from chemdataextractor.model import Compound,BaseModel\n",
    "from chemdataextractor.doc import Paragraph, Heading,Sentence\n",
    "from chemdataextractor.reader.pdf import PdfReader\n",
    "from pprint import pprint"
   ]
  },
  {
   "cell_type": "code",
   "execution_count": 50,
   "id": "96a69f39",
   "metadata": {},
   "outputs": [],
   "source": [
    "#working temperature property model\n",
    "from chemdataextractor.model.units import TemperatureModel, Temperature, Kelvin\n",
    "from chemdataextractor.model import ListType, ModelType, StringType, Compound\n",
    "from chemdataextractor.parse import I, AutoSentenceParser, join\n",
    "\n",
    "class WorkingTemperature(TemperatureModel):\n",
    "    value = StringType()\n",
    "    units = StringType(contextual=True)"
   ]
  },
  {
   "cell_type": "code",
   "execution_count": 51,
   "id": "fd8d8c9d",
   "metadata": {},
   "outputs": [],
   "source": [
    "#grammar rules for identifyimg the the working temperature\n",
    "import re\n",
    "from chemdataextractor.parse import R, I, W, Optional, merge\n",
    "\n",
    "prefix = (I('Tmax') +I('of') |I('(')+I('Tmax')+I(')')+I('of')|I('operating')+I('temperature')+I('of')|I('characteristic')+I('temperature')+I('To')+I('=')| (R('^\\(T.*max\\)$', re.I)+ I('of')) |I('pulsed')+ I('mode') +I('at') + I('temperatures') + I('up')+I('to')|I('working')+I('temperature')+I('of')| I('maximum')+ I('operation') + I('temperature') + I('of')| (I('heat')+ I('-')+I('sink')+I('temperature')+ I('of'))).hide()\n",
    "units = (Optional(W('°')) + Optional(R('^°?[CFK]\\.?$')))('units').add_action(merge)\n",
    "value = R('^\\d+(\\.\\d+)?$')('value')\n",
    "wt = (prefix + value + units)('wt')"
   ]
  },
  {
   "cell_type": "code",
   "execution_count": 52,
   "id": "70d2fb17",
   "metadata": {},
   "outputs": [],
   "source": [
    "#the logic for parsing the temperature value\n",
    "from chemdataextractor.parse.base import BaseSentenceParser\n",
    "from chemdataextractor.utils import first\n",
    "from lxml import etree\n",
    "\n",
    "class WtParser(BaseSentenceParser):\n",
    "    root = wt\n",
    "\n",
    "    def interpret(self, result, start, end):\n",
    "        raw_value = first(result.xpath('./value/text()'))\n",
    "        raw_units = first(result.xpath('./units/text()'))\n",
    "        working_temp = self.model(raw_value=raw_value,\n",
    "                    raw_units=raw_units,\n",
    "                    value=self.extract_value(raw_value),\n",
    "                    error=self.extract_error(raw_value),\n",
    "                    units=self.extract_units(raw_units, strict=True))\n",
    "        yield working_temp"
   ]
  },
  {
   "cell_type": "code",
   "execution_count": 53,
   "id": "5bcaa6d2",
   "metadata": {},
   "outputs": [],
   "source": [
    "#setting the parser and the property model\n",
    "WorkingTemperature.parsers = [WtParser()]\n",
    "sentence_parser = WtParser\n",
    "sentence_parser.model = WorkingTemperature"
   ]
  },
  {
   "cell_type": "code",
   "execution_count": 54,
   "id": "0ba1aee0",
   "metadata": {},
   "outputs": [],
   "source": [
    "#sample sentences from the qcl journals\n",
    "s1=  Sentence('A large current density dynamic range is observed, leading to a maximum operation temperature of 150 K for the double metal waveguide device')\n",
    "s2 = Sentence('The laser operated up to a heat-sink temperature of 110K in pulsed mode, 95K in continuous wave (cw) mode, and the threshold current density at 5K was ∼140A∕cm2.')\n",
    "s3 = Sentence('In pulsed operation, the device lased up to a maximum heat-sink temperature (Tmax) of 111K. The threshold current density (Jth) at 6K was 142A∕cm2. ')"
   ]
  },
  {
   "cell_type": "code",
   "execution_count": 55,
   "id": "8b7ba3ce",
   "metadata": {},
   "outputs": [],
   "source": [
    "#specifying the model to be used for extracting the temperature values\n",
    "s1.models = [WorkingTemperature]\n",
    "s2.models = [WorkingTemperature]\n",
    "s3.models = [WorkingTemperature] "
   ]
  },
  {
   "cell_type": "code",
   "execution_count": 56,
   "id": "74b0368a",
   "metadata": {},
   "outputs": [
    {
     "name": "stdout",
     "output_type": "stream",
     "text": [
      "b'<wt><value>150</value><units>K</units></wt>' \n",
      "\n",
      "[{'WorkingTemperature': {'raw_units': 'K',\n",
      "                         'raw_value': '150',\n",
      "                         'units': 'Kelvin^(1.0)',\n",
      "                         'value': '[150.0]'}}]\n"
     ]
    }
   ],
   "source": [
    "#temperature record in s1\n",
    "for result in sentence_parser.root.scan(s1.tagged_tokens):\n",
    "    print(etree.tostring(result[0]), '\\n')\n",
    "    pprint(s1.records.serialize())"
   ]
  },
  {
   "cell_type": "code",
   "execution_count": 57,
   "id": "47599fbd",
   "metadata": {},
   "outputs": [
    {
     "name": "stdout",
     "output_type": "stream",
     "text": [
      "b'<wt><value>150</value><units>K</units></wt>' \n",
      "\n",
      "[{'WorkingTemperature': {'raw_units': 'K',\n",
      "                         'raw_value': '110',\n",
      "                         'units': 'Kelvin^(1.0)',\n",
      "                         'value': '[110.0]'}}]\n"
     ]
    }
   ],
   "source": [
    "#temperature record in s2\n",
    "for result in sentence_parser.root.scan(s1.tagged_tokens):\n",
    "    print(etree.tostring(result[0]), '\\n')\n",
    "    pprint(s2.records.serialize())"
   ]
  },
  {
   "cell_type": "code",
   "execution_count": 58,
   "id": "0967ee4a",
   "metadata": {},
   "outputs": [
    {
     "name": "stdout",
     "output_type": "stream",
     "text": [
      "b'<wt><value>150</value><units>K</units></wt>' \n",
      "\n",
      "[{'WorkingTemperature': {'raw_units': 'K.',\n",
      "                         'raw_value': '111',\n",
      "                         'units': 'Kelvin^(1.0)',\n",
      "                         'value': '[111.0]'}}]\n"
     ]
    }
   ],
   "source": [
    "#temperature record in s3\n",
    "for result in sentence_parser.root.scan(s1.tagged_tokens):\n",
    "    print(etree.tostring(result[0]), '\\n')\n",
    "    pprint(s3.records.serialize())"
   ]
  },
  {
   "cell_type": "code",
   "execution_count": 94,
   "id": "0fc7384c",
   "metadata": {},
   "outputs": [
    {
     "name": "stdout",
     "output_type": "stream",
     "text": [
      "[Paragraph(id=None, references=[], text='Terahertz master-oscillator power-amplifier \\nquantum cascade laser with a grating coupler \\nof extremely low reflectivity'), Paragraph(id=None, references=[], text='HUAN ZHU,1,2 HAIQING ZHU,1,2 FANGFANG WANG,1 GAOLEI CHANG,1,2 \\nCHENREN YU,1,2 QUAN YAN,1 JIANXIN CHEN,1 LIANHE LI,3 A. GILES \\nDAVIES,3 EDMUND H. LINFIELD,3 ZHOU TANG,4 PINGPING CHEN,4 WEI LU,4 \\nGANGYI XU,1,* AND LI HE\\n1Key Laboratory of Infrared Imaging Materials and Detectors, Shanghai Institute of Technical Physics, \\nChinese Academy of Sciences, Shanghai 200083, China \\n2University of Chinese Academy of Sciences, Beijing 100049, China \\n3School of Electronic and Electrical Engineering, University of Leeds, Leeds LS2 9JT, United Kingdom \\n4National Laboratory of Infrared Physics, Shanghai Institute of Technical Physics, Chinese Academy of \\nSciences, Shanghai 200083, China \\n*gangyi.xu@mail.sitp.ac.cn'), Paragraph(id=None, references=[], text='1'), Paragraph(id=None, references=[], text='Abstract:  A  terahertz  master-oscillation  power-amplifier  quantum  cascade  laser  (THz-\\nMOPA-QCL) is demonstrated where a grating coupler is employed to efficiently extract the \\nTHz radiation. By maximizing the group velocity and eliminating the scattering of THz wave \\nin the grating coupler, the residue reflectivity is reduced down to the order of 10−3. A buried \\nDFB grating and a tapered preamplifier are proposed to improve the seed power and to reduce \\nthe  gain  saturation,  respectively.  The  THz-MOPA-QCL  exhibits  single-mode  emission,  a \\nsingle-lobed beam with a narrow divergence angle of 18° × 16°, and a pulsed output power of \\n136 mW at 20 K, which is 36 times that of a second-order DFB laser from the same material.'), Paragraph(id=None, references=[], text='Published  by  The  Optical  Society  under  the  terms  of  the  Creative  Commons  Attribution  4.0  License.  Further \\ndistribution of this work must maintain attribution to the author(s) and the published article’s title, journal citation, \\nand DOI.'), Paragraph(id=None, references=[], text='OCIS  codes:  (140.3280)  Laser  amplifiers;  (140.3490)  Lasers,  distributed-feedback;  (140.5965)  Semiconductor \\nlasers, quantum cascade; (300.6495) Spectroscopy, terahertz.'), Paragraph(id=None, references=[], text='References and links'), Paragraph(id=None, references=[], text='1.  M. Tonouchi, “Cutting-edge terahertz technology,” Nat. Photonics 1(2), 97–105 (2007). \\n2.  P. U. Jepsen, D. G. Cooke, and M. Koch, “Terahertz spectroscopy and imaging – Modern techniques and'), Paragraph(id=None, references=[], text='applications,” Laser Photonics Rev. 5(1), 124–166 (2011).'), Paragraph(id=None, references=[], text='3.  A. J. Fitzgerald, E. Berry, N. N. Zinovev, G. C. Walker, M. A. Smith, and J. M. Chamberlain, “An introduction \\nto medical imaging with coherent terahertz frequency radiation,” Phys. Med. Biol. 47(7), R67–R84 (2002). \\nJ. Federici and L. Moeller, “Review of terahertz and subterahertz wireless communications,” J. Appl. Phys. \\n107(11), 111101 (2010).'), Paragraph(id=None, references=[], text='4.'), Paragraph(id=None, references=[], text='5.  H. T. Chen, R. Kersting, and G. C. Cho, “Terahertz imaging with nanometer resolution,” Appl. Phys. Lett.'), Paragraph(id=None, references=[], text='83(15), 3009–3011 (2003).'), Paragraph(id=None, references=[], text='6.  A. W. M. Lee, Q. Qin, S. Kumar, B. S. Williams, Q. Hu, and J. L. Reno, “Real-time terahertz imaging over a'), Paragraph(id=None, references=[], text='standoff distance (> 25 meters),” Appl. Phys. Lett. 89(14), 141125 (2006).'), Paragraph(id=None, references=[], text='7.  R. Köhler, A. Tredicucci, F. Beltram, H. E. Beere, E. H. Linfield, A. G. Davies, D. A. Ritchie, R. C. Iotti, and F.'), Paragraph(id=None, references=[], text='Rossi, “Terahertz semiconductor-heterostructure laser,” Nature 417(6885), 156–159 (2002).'), Paragraph(id=None, references=[], text='8.  M. S. Vitiello, G. Scalari, B. Williams, and P. De Natale, “Quantum cascade lasers: 20 years of challenges,” Opt.'), Paragraph(id=None, references=[], text='Express 23(4), 5167–5182 (2015).'), Paragraph(id=None, references=[], text='9.  B. S. Williams, “Terahertz quantum-cascade lasers,” Nat. Photonics 1(9), 517–525 (2007). \\n10.  C. Sirtori, S. Barbieri, and R. Colombelli, “Wave engineering with THz quantum cascade lasers,” Nat. Photonics'), Paragraph(id=None, references=[], text='7(9), 691–701 (2013).'), Paragraph(id=None, references=[], text='11.  A. Mottaghizadeh, D. Gacemi, P. Laffaille, H. Li, M. Amanti, C. Sirtori, G. Santarelli, W. Hansel, R. Holzwart, \\nL. H. Li, E. H. Linfield, and S. Barbieri, “5-ps-long terahertz pulses from an active-modelocked quantum \\ncascade laser,” Optica 4, 168–171 (2017).'), Paragraph(id=None, references=[], text='12.  G. Scalari, C. Walther, M. Fischer, R. Terazzi, H. Beere, D. Richie, and J. Faist, “THz and sub-THz quantum'), Paragraph(id=None, references=[], text='cascade lasers,” Laser Photonics Rev. 3(1-2), 45–66 (2009).'), Paragraph(id=None, references=[], text='13.  B. Paulillo, S. Pirotta, H. Nong, P. Crozat, S. Guilet, G. Xu, S. Dhillon, L. H. Li, A. G. Davies, E. H. Linfiled, \\nand R. Colombelli, “Ultrafast terahertz detectors based on three-dimensional meta-atoms,” Optica 4(12), 1451–\\n1456 (2017).'), Paragraph(id=None, references=[], text='14.  T. Y. Kao, J. L. Reno, and Q. Hu, “Phase-locked laser arrays through global antenna mutual coupling,” Nat.'), Paragraph(id=None, references=[], text='Photonics 10(8), 541–546 (2016).'), Paragraph(id=None, references=[], text='15.  L. Xu, D. Chen, C. A. Curwen, M. Memarian, J. L. Reno, T. Itoh, and B. S. Williams, “Metasurface quantum-'), Paragraph(id=None, references=[], text='cascade laser with electrically switchable polarization,” Optica 4(4), 468–475 (2017).'), Paragraph(id=None, references=[], text='16.  A. Khalatpour, J. L. Reno, N. P. Kherani, and Q. Hu, “Unidirectional photonic wire laser,” Nat. Photonics 11(9),'), Paragraph(id=None, references=[], text='555–559 (2017).'), Paragraph(id=None, references=[], text='17.  S. Schönhuber, M. Brandstetter, T. Hisch, C. Deutsch, M. Krall, H. Detz, A. M. Andrews, G. Strasser, S. Rotter, \\nand K. Unterrainer, “Random lasers for broadband directional emission,” Optica 3(10), 1035–1038 (2016). \\n18.  M. I. Amanti, M. Fischer, G. Scalari, M. Beck, and J. Faist, “Low-divergence single-mode terahertz quantum'), Paragraph(id=None, references=[], text='cascade laser,” Nat. Photonics 3(10), 586–590 (2009).'), Paragraph(id=None, references=[], text='19.  G. Xu, R. Colombelli, S. P. Khanna, A. Belarouci, X. Letartre, L. Li, E. H. Linfield, A. G. Davies, H. E. Beere, \\nand D. A. Ritchie, “Efficient power extraction in surface-emitting semiconductor lasers using graded photonic \\nheterostructures,” Nat. Commun. 3, 952 (2012).'), Paragraph(id=None, references=[], text='20.  G. Xu, Y. Halioua, S. Moumdji, R. Colombelli, H. E. Beere, and D. A. Ritchie, “Stable single-mode operation of \\nsurface-emitting terahertz lasers with graded photonic heterostructure resonators,” Appl. Phys. Lett. 102(23), \\n231105 (2013).'), Paragraph(id=None, references=[], text='21.  G. Xu, L. Li, N. Isac, Y. Halioua, A. Giles Davies, E. H. Linfield, and R. Colombelli, “Surface-emitting terahertz \\nquantum cascade lasers with continuous-wave power in the tens of milliwatt range,” Appl. Phys. Lett. 104(9), \\n091112 (2014).'), Paragraph(id=None, references=[], text='22.  J. N. Walpole, “Semiconductor amplifier and lasers with tapered gain regions,” Opt. Quantum Electron. 28(6),'), Paragraph(id=None, references=[], text='623–645 (1996).'), Paragraph(id=None, references=[], text='23.  S. O’Brien, R. Lang, R. Parke, J. Major, D. F. Welch, and D. Mehuys, “2.2-W Continuous-Wave Diffraction-'), Paragraph(id=None, references=[], text='Limited Monolithically Integrated Master Oscillator Power Amplifier at 854 nm,” IEEE Photonics Technol. Lett. \\n9(4), 440–442 (1997).'), Paragraph(id=None, references=[], text='24.  K. Kim, S. Lee, and P. Delfyett, “1.4kW high peak power generation from an all semiconductor mode-locked'), Paragraph(id=None, references=[], text='master oscillator power amplifier system based on eXtreme Chirped Pulse Amplification(X-CPA),” Opt. Express \\n13(12), 4600–4606 (2005).'), Paragraph(id=None, references=[], text='25.  H. Wenzel, K. Paschke, O. Brox, F. Bugge, J. Fricke, A. Ginolas, A. Knauer, P. Ressel, and G. Erbert, “10 W \\ncontinuous-wave monolithically integrated master-oscillator power-amplifier,” Electron. Lett. 43(3), 160–161 \\n(2007).'), Paragraph(id=None, references=[], text='26.  M. Troccoli, C. Gmachl, F. Capasso, D. L. Sivco, and A. Y. Cho, “Mid-infrared (λ≈7.4 µm) quantum cascade \\nlaser amplifier for high power single-mode emission and improved beam quality,” Appl. Phys. Lett. 80(22), \\n4103–4105 (2002).'), Paragraph(id=None, references=[], text='27.  P. Rauter, S. Menzel, A. K. Goyal, B. Gökden, C. A. Wang, A. Sanchez, G. W. Turner, and F. Capasso, “Master-'), Paragraph(id=None, references=[], text='oscillator power-amplifier quantum cascade laser array,” Appl. Phys. Lett. 101(26), 261117 (2012). \\n28.  B. Hinkov, M. Beck, E. Gini, and J. Faist, “Quantum cascade laser in a master oscillator power amplifier'), Paragraph(id=None, references=[], text='configuration with Watt-level optical output power,” Opt. Express 21(16), 19180–19186 (2013).'), Paragraph(id=None, references=[], text='29.  P. Rauter and F. Capasso, “Multi‐wavelength quantum cascade laser arrays,” Laser Photonics Rev. 9(5), 452–'), Paragraph(id=None, references=[], text='477 (2015).'), Paragraph(id=None, references=[], text='30.  C. Mauro, R. P. Green, A. Tredicucci, F. Beltram, H. E. Beere, and D. A. Ritchie, “Amplification of terahertz'), Paragraph(id=None, references=[], text='radiation in quantum cascade structures,” J. Appl. Phys. 102(6), 063101 (2007).'), Paragraph(id=None, references=[], text='31.  Y. Ren, R. Wallis, Y. D. Shah, D. S. Jessop, R. Degl’Innocenti, A. Klimont, V. Kamboj, H. E. Beere, and D. A.'), Paragraph(id=None, references=[], text='Ritchie, “Single mode terahertz quantum cascade amplifier,” Appl. Phys. Lett. 105(14), 141102 (2014). \\n32.  H. Zhu, F. F. Wang, Q. Yuan, C. R. Yu, J. X. Chen, G. Xu, L. He, L. H. Li, L. Chen, A. G. Davies, E. H.'), Paragraph(id=None, references=[], text='Linfield, J. M. Hao, P. B. Vigneron, and R. Colombelli, “Terahertz master-oscillator power-amplifier quantum \\ncascade lasers,” Appl. Phys. Lett. 109(23), 231105 (2016).'), Paragraph(id=None, references=[], text='33.  M. I. Amanti, G. Scalari, R. Terazzi, M. Fischer, M. Beck, J. Faist, A. Rudra, P. Gallo, and E. Kapon, “Bound-\\nto-continuum terahertz quantum cascade laser with a single-quantum-well phonon extraction/injection stage,” \\nNew J. Phys. 11(12), 125022 (2009).'), Paragraph(id=None, references=[], text='1. Introduction'), Paragraph(id=None, references=[], text='Terahertz (THz) frequency radiation (loosely defined to span the 1–10 THz frequency range) \\nhas  important  applications  ranging  from  spectroscopy,  imaging,  through  to  wireless \\ncommunications  [1–6].  The  study  of  terahertz  quantum  cascade  lasers  (THz-QCLs)  has \\nattracted  increasing  interest  since  they  are  the  only  compact  THz  coherent  source  with  the \\nbrightest  radiation  and  can  be  ultra-fast  modulated  [7–13].  However,  it  is  a  long  standing \\nchallenge to improve the output power and the beam directionality of the THz-QCLs, mainly \\ndue to the severe mismatching between the mode highly confined in the sub-wavelength (at \\nleast in one direction) cavity and the mode in the free space. Some unique photonic concepts'), Paragraph(id=None, references=[], text='have  been  developed  to  address  this  issue  [14–21].  Among  these  efforts,  a  power  extractor \\nwith  designable  reflectivity  and  radiation  efficiency  is  highly  desired  to  link  the  tiny  cavity \\nand the free space, and it is particularly important when we try to monolithically integrate a \\nmaster-oscillator power-amplifier (MOPA) architecture in the THz-QCL.'), Paragraph(id=None, references=[], text='MOPA  is  a  promising  configuration  to  improve  output  power  and  beam  quality  of \\nsemiconductor lasers [22–29]. In an MOPA laser, the seed radiation generated in the master-\\noscillator (MO) section is efficiently injected into the power-amplifier (PA) section and, after \\namplification,  is  coupled  out  from  the  front  facet  of  the  latter.  In  order  to  fully  exploit  the \\nmaterial gain and enhance the power amplification, it is crucial to suppress self-lasing in the \\nPA section. To this target, the facet reflectivity in the PA section needs to be as low as ~0.1%. \\nIn  the  near-  and  mid-infrared  frequency  range,  such  low  reflectivity  can  be  realized  by \\ndepositing  high  quality  antireflection  (AR)  multilayers,  with  the  assistance  of  facet  tilting \\n[22]. However, in the THz frequency range, due to the very long wavelength, high quality AR \\nlayers  are  still  not  available,  which  has  for  a  long  time  obstructed  the  realization  of  the \\nMOPA architecture in THz-QCLs [30,31].'), Paragraph(id=None, references=[], text='Until  recently  did  we  demonstrate  the  first  terahertz  master-oscillator  power-amplifier \\nquantum cascade laser (THz-MOPA-QCL), where a grating coupler instead of AR layers is \\nexploited  to  extract  the  THz  radiation  [32].  Stable  single-mode  emission  has  been \\ndemonstrated,  and  the  factor  of  power  amplification  was  about  5.  However,  the  absolute \\noutput power achieved in that work was very limited (~1.3 mW), and the main reason is the \\nconsiderable residue reflection caused by the grating coupler which constrains the length of \\nthe preamplifier and thus degrades the effect of power amplification. Moreover, the metallic \\nDFB grating used in the MO section leads to a high contrast of the refractive index and hence \\na strong mode confinement, which results in a low seed power.'), Paragraph(id=None, references=[], text='In this work, we reveal that the reflection induced by the grating coupler originates from \\ntwo  mechanisms  –  the  intrinsic  reflection  caused  by  the  periodic  contrast  of  the  refractive \\nindex  in  the  grating  coupler,  and  the  parasitic  reflection  caused  by  the  scattering  from  the \\nlateral ends of the grating coupler. Here, we propose a new design of the grating coupler to \\nminimize both the intrinsic and the parasitic reflection, and finally reduce the total reflectivity \\ndown to the order of 10−3. In addition, a buried DFB grating with controllable index contrast \\nis  employed,  which  efficiently  increases  the  seed  power  from  the  MO  section.  A  tapered \\npreamplifier is proposed to reduce the gain saturation. All these innovations result in a single-\\nmode emission THz-MOPA-QCL with an output power of 136 mW, which is ~100 times that \\nof  the  previous  MOPA  devices  (from  a  different  material),  and  is  36  times  that  of \\nconventional  single-mode  second-order  DFB  lasers,  and  is  even  16  times  that  of  the \\nmultimode Fabry-Perot (FP) lasers fabricated from the same material.'), Paragraph(id=None, references=[], text='2. Device concept and modeling'), Paragraph(id=None, references=[], text='Figure 1(a) shows the scheme of a THz-MOPA-QCL. The GaAs/Al0.15Ga0.85As active region \\nused in this work is based on a bound-to-continuum design [33], with a thickness of ~13 μm \\nand a measured central emission frequency of ~2.6 THz. The device is based on a metal-metal \\nwaveguide. The MO section is a first-order DFB laser featuring a buried DFB grating with a \\ncentral π-phase-shift, in which the periodic grooves are formed on the top of active region by \\nwet  etching  and  then  are  covered  by  the  top  metallization.  The  PA  section  consists  of  a \\nstraight  preamplifier,  a  grating  coupler  and  an  absorbing  boundary.  The  grating  coupler  – \\nsufficiently wider than the preamplifier – consists of periodic air slits in the top metallization, \\nextracting the THz wave from the PA section into the free space. The absorbing boundary is \\nconstructed via the highly doped n+ GaAs top contact layer which is not covered by the top \\nmetallization.  A  part  of  the  THz  wave  will  transmit  through  the  grating  coupler  and  then \\nannihilate in the absorbing boundary.'), Paragraph(id=None, references=[], text='Figure  1(b)  shows  the  photonic  band  structures  of  the  DFB  grating  and  the  grating \\ncoupler. In the MO section, the operating mode is the defect state – caused by the central π-'), Paragraph(id=None, references=[], text='phase-shift – inside the band gap and its frequency is marked as ω0. To minimize the intrinsic \\nreflection,  the  grating  coupler  is  designed  so  that  the  state  with  frequency  ω0  locates  in  the'), Paragraph(id=None, references=[], text='energy  band  above  the  second  band  gap,  and  its  group  velocity  ('), Paragraph(id=None, references=[], text='∂\\nω\\n∂\\nxk ω ω'), Paragraph(id=None, references=[], text='='), Paragraph(id=None, references=[], text='0'), Paragraph(id=None, references=[], text=')  is  near  the'), Paragraph(id=None, references=[], text='maximum.  Here,  ω  and  kx  are  respectively  the  frequency  and  wave  vector  in  the  photonic \\nband  structure.  High  group  velocity  indicates  weak  feedback  and  thus  low  reflectivity.  By \\nassuming  that  the  grating  coupler  is  infinitely  wide  and  using  2D  full  wave  finite  element \\nmethod (FEM, solver COMSOL Multiphysics), we calculated the intrinsic reflectivity caused \\nby the grating coupler in the frequency range of the material gain. The results are plotted as \\nthe  black  squares  in  Fig. 2,  showing  that  the  intrinsic  reflectivity  is  about  or  even  less  than \\n0.1%.'), Paragraph(id=None, references=[], text='Fig. 1. (a) Schematic illustration of a THz-MOPA-QCL based on a metal-metal waveguide. (b) \\nThe  photonic  band  structures  for  the  DFB  grating  and  the  grating  coupler.  The  gray  zones \\ncorrespond to the band gaps, and the dashed line shows the lasing frequency (ω0). The  DFB \\nmode (the defect state inside the band gap) in the MO is aligned with a state in the third band \\nin  the  grating  coupler,  whose  group  velocity  is  near  the  maximum.  The  periodicities  of  the \\nDFB grating (ΛDFB) and the grating coupler (ΛGC) are respectively 16.2 μm and 46.0 μm.'), Paragraph(id=None, references=[], text='Fig.  2.  Calculated  reflectivity  caused  by  the  grating  coupler.  The  black  squares  are  the  2D \\nsimulation results which correspond to the intrinsic reflectivity. The red circles are 3D results \\nwhere the grating coupler and the preamplifier are 150 μm in width. The blue triangles are 3D'), Paragraph(id=None, references=[], text=''), Paragraph(id=None, references=[], text=''), Paragraph(id=None, references=[], text='results where the grating coupler is 600-μm-wide while the preamplifier is 150-μm-wide. GC \\nmeans grating coupler.'), Paragraph(id=None, references=[], text='However, for a practical grating coupler with finite width, the spatial overlap between its \\nlateral ends and the THz field will cause scattering and result in parasitic reflection. Figures \\n3(a)  and  3(b)  compare  the  propagation  of  THz  wave  (the  frequency  is  2.6  THz)  in  two \\ndifferent  PA  sections  calculated  by  3D  FEM  simulations,  where  the  preamplifiers  are  150-\\nμm-wide, and the width of the grating couplers are respectively 150 μm and 600 μm. In the \\nstructure  where  the  grating  coupler  is  as  narrow  as  the  preamplifier  [Fig.  3(a)],  the \\nconsiderable scattering leads the total reflectivity to be 7.6 × 10−2. When the grating coupler is \\nsufficient wider than the preamplifier [Fig. 3(b)], the spatial overlap and thus the scattering is \\nefficiently eliminated, and the total reflectivity is as low as 7.2 × 10−4. Figure 2 also shows the \\nfrequency spectra of the total reflectivity for the two PA sections. In the considered frequency \\nrange,  the  PA  with  a  widened  grating  coupler  exhibits  low  total  reflectivity  (blue  triangles) \\nwhich is close to the intrinsic reflectivity, and is nearly two orders of magnitude lower than \\nthat  (red  circles)  of  the  PA  with  a  narrow  grating  coupler.  It  indicates  that  the  parasitic \\nreflection is of dominant importance for the design of low-reflectivity grating coupler. Thanks \\nto the gain (g≈25 cm−1) of the active region embedded in the grating coupler, the power flux \\nextracted from the grating coupler is about 1.25 times that injected into the grating coupler. \\nThese  calculations  reveal  that  the  grating  coupler  developed  in  this  work  can  efficiently \\nextract the THz radiation from the MOPA with a residue reflectivity in the order of 10−3.'), Paragraph(id=None, references=[], text='Fig.  3.  The  left  panels  of  (a)  and  (b)  show  the  schemes  of  two  PA  sections,  where  the \\npreamplifier  is  150-μm-wide  but  the  grating  couplers  are  150  μm  and  600  μm  in  width, \\nrespectively. The right panels show the field distribution when THz wave propagates through \\nthe  preamplifier  into  the  grating  coupler  in  the  two  structures.  In  both  structures,  the  grating \\ncoupler contains 10 periods, the periodicity is 46.0 μm and the air slit is 10.0-μm-wide. AB is \\nthe absorbing boundary.'), Paragraph(id=None, references=[], text='The  index  contrast  in  the  buried  DFB  grating  can  be  flexibly  controlled  by  the  etching \\ndepth. Manipulating the etching depth and the number of periods in the buried DFB grating, \\nwe  can  simultaneously  optimize  the  injected  power  and  the  radiation  efficiency  of  the  MO \\nsection,  and  thus  maximize  the  seed  power.  By  finite-difference  time-domain  (FDTD) \\nsimulations, we calculated the mode profile (|Ez|2) in the MO with an optimized buried DFB \\ngrating, and the result is given in Fig. 4(a). The buried DFB grating contains 80 periods with a \\ncentral π-phase-shift, the grating periodicity and the duty cycle are respectively 16.2 μm and \\n75%, and the grating depth is 0.5 μm. Figure 4(a) shows that the ratio of light intensity at the \\nexport  to  the  maximum  intensity  inside  the  MO  is  about  38%,  indicating  high  radiation \\nefficiency. As a comparison, in Fig. 4(b) we plot the mode profile in the MO with a metallic'), Paragraph(id=None, references=[], text=''), Paragraph(id=None, references=[], text='DFB grating utilized in our previous work, in which the grating is formed by the air slits in \\nthe top metallization and it contains only 30 periods [32]. In the latter case, the corresponding \\nratio  is  as  low  as  ~5.5%,  meaning  very  low  radiation  efficiency.  Such  comparison  is  also \\nsupported by the analysis of the radiation loss (αrad) and the injected power (Pin,MO) of the MO \\nsection. The calculated αrad is 5.4 cm−1 for the MO with a buried grating, lager than the value \\n(3.0 cm−1) for the one with a metallic grating, but is sufficiently lower than the material loss \\n(αmat)  of  the  metal-metal  waveguide which  is  about 15-20 cm−1  [9].  The input power of  the \\nformer,  proportional  to  the  length  of  the  DFB  grating,  is  about  2.8  times  that  of  the  latter. \\nSince  the  seed  power  (Pout,MO)  is  proportional  to \\n,  the  MO  section \\nwith a buried DFB grating will increase the seed power by a fact of ~5.0, compared with the \\none with a metallic grating.'), Paragraph(id=None, references=[], text='α α α'), Paragraph(id=None, references=[], text='P\\nin MO\\n,'), Paragraph(id=None, references=[], text='/ ('), Paragraph(id=None, references=[], text='×'), Paragraph(id=None, references=[], text='+'), Paragraph(id=None, references=[], text='mat'), Paragraph(id=None, references=[], text='rad'), Paragraph(id=None, references=[], text='rad'), Paragraph(id=None, references=[], text=')'), Paragraph(id=None, references=[], text='It should be noted that αrad influences the threshold current, the slope efficiency, and the \\nlasing  dynamic  range  of  the  MO  section.  A  careful  balance  between  αrad  and  Pin,MO  will \\nfurther improve the seed power of the MO section.'), Paragraph(id=None, references=[], text='Fig. 4. THz wave intensity distribution (|Ez|2) along a line through the center of the MO section \\nwith a buried DFB grating (a), or a metallic DFB grating (b). The insets show the schematic \\ncross-sections of the buried and the metallic DFB gratings, respectively.'), Paragraph(id=None, references=[], text='3. Experiment results of THz-MOPA-QCLs with a straight preamplifier'), Paragraph(id=None, references=[], text='Based on the aforementioned design, THz-MOPA-QCLs with different structure parameters \\nhave been systemically fabricated. The periodicity of the DFB grating (ΛDFB) varies from 16.0 \\nto 16.6 μm, the width of MO section and the straight preamplifier are set as 150 μm, and the \\nlength of the preamplifier varies from 100 μm to 1500 μm. The grating coupler is 600 μm in \\nwidth and contains 10 periods, and several different periodicities (46 μm, 48 μm, and 50 μm) \\nhave  been  tested.  The  top  metallization  of  the  MO  section  and  the  preamplifier  are  linked \\nwith each other. There is an air gap in the top metallization – between the preamplifier and \\nthe grating coupler – whose position and width are designed so that the air gap acts as the first \\nair  slit  in  the  grating  coupler.  Consequently,  the  grating  coupler  can  be  separately  pumped, \\nbut the THz wave will not be disturbed.'), Paragraph(id=None, references=[], text=''), Paragraph(id=None, references=[], text='The  GaAs/AlGaAs  epilayers  of  the  THz-QCL  were  grown  on  a  semi-insulator  GaAs \\nsubstrate via molecular beam epitaxy (MBE). After epitaxy, the sample surface together with \\nan n+ GaAs holder wafer is Ti/Au coated. The sample carrier is glued on the holder wafer via \\nthermo-compressive Au-Au bonding. The semi-insulator GaAs substrate is then removed via \\nmechanical  polishing  followed  by  selective  wet-etching.  Once  the  GaAs/AlGaAs  epitaxy  is \\nuncovered, the top n+ GaAs (200 nm in thickness) contact layer is partially removed by wet \\netching. After that, the DFB grating is formed on the top of the active region by another wet \\netching, and the etching depth is about 500 nm controlled by a surface profiler (Dektak 150). \\nThe  top  metallization  is  then  formed  on  the  top  of  the  active  region,  defined  by  contact \\nphotolithography,  e-beam  evaporation,  and  lift-off.  The  DFB  grating  in  the  MO  section  is \\ncovered by the top metallization, giving rise to a buried DFB grating. The grating coupler is \\nalso  formed  in  this  step  via  defining  periodic  air  slits  in  the  top  metallization  in  the  PA \\nsection.  The  top  n+ GaAs  layer  left  in  place,  which  is  not  covered  by  the  top  metallization, \\nforms  the  absorbing  boundary.  Later,  the  device  ridge  is  defined  by  chlorine-based \\ninductively coupled plasma (ICP) etching. Finally, the back-side process consists of substrate \\nthinning,  Ti/Au  evaporation  and  sample  cutting  via  micro-dicing  with  a  diamond  blade. \\nFigure 5(a) shows an SEM picture of a THz-MOPA-QCL with a straight preamplifier.'), Paragraph(id=None, references=[], text='The fabricated devices are In-soldered on a Cu heat sink and mounted on the cold finger \\nof a close-cycle cryostat. The spectra, light–current and current–voltage characteristics were \\nmeasured in pulsed mode (the repeat frequency is 40 kHz and the pulse width is 1 μs). The \\nspectral  characteristics  were  measured  using  a  Fourier  transform  infrared  spectrometer \\n(Bruker 80V) with a spectral resolution of 0.1 cm−1. The emitted power was measured by a \\nGolay cell which was calibrated by a Thomas Keating absolute terahertz power-meter. For the \\npower measurement, only the readout of the detector is recorded, without taking into account \\nthe  collection efficiency  of  the  light  branch or  the  transmissivity  of  the  THz window  in  the \\ncryostat. The far-field emission patterns of the devices were measured at 20 K with a Golay \\ncell detector, which was scanned on a 15-cm-radius sphere centered on the device surface.'), Paragraph(id=None, references=[], text='Fig.  5.  (a)  SEM  picture  of  a  THz-MOPA-QCL  with  a  straight  preamplifier.  (b)  Emission \\nspectra  of  4  THz-MOPA-QCL  devices  in  which  the  periodicity  of  DFB  grating  varies  from \\n16.0 to 16.6 μm. (c) Emission spectrum of a typical MOPA device showing that the side mode \\nsuppression  ration  (SMSR)  is  about  30  dB.  (d)  Schematic  diagram  defining  the  scanning \\nangles  used  in  beam  profiling  measurements.  The  angle  θx  =  θy  =  0  corresponds  to  the \\ndirection  along  the  laser  ridge.  (e)  Measured  far-field  pattern  of  a  MOPA  device  where  the \\npreamplifier is 1500 μm in length.'), Paragraph(id=None, references=[], text=''), Paragraph(id=None, references=[], text='Figure 5(b) displays the emission spectra of devices with different ΛDFB, where all sections \\nof  the  device  were  equally  pumped  at  the  level  of  maximum  output  power.  The  devices \\nexhibit single-mode emission, and the emission wavelength varies linearly from 115.4 μm to \\n119.5 μm when ΛDFB varies from 16.0 μm to 16.6 μm. Moreover, the emission wavelength is \\nindependent  of  the  structure  parameters  used  in  the  preamplifier  and  the  grating  coupler, \\nwhich confirms that the devices operate on the DFB mode activated in the MO section. In all \\nthe devices, even when the preamplifier is as long as 1500 μm, single-mode emission remains \\nin the whole dynamic range of lasing and the side mode suppression ratio (SMSR) is about 30 \\ndB. Figure 5(c) is a typical emission spectrum, where the preamplifier is 1500 μm in length. \\nWe would like to emphasis that in the measured frequency range, when the periodicity of the \\ngrating coupler changes from 46 μm to 50 μm, no self-lasing was observed in the PA section, \\nconfirming  the  robustness  of  the  design  of  low-reflectivity  grating  coupler.  This  is  mainly \\nbecause that for a given grating coupler – as shown in Fig. 1(b) – the group velocity of optical \\nmode keeps large in a wide frequency range.'), Paragraph(id=None, references=[], text='Figure 5(d) shows the schematic geometry for the far-field measurement. The θx = θy = 0 \\nangle corresponds to the direction along the laser ridge. Figure 5(e) shows the measured far-\\nfield beam of a MOPA device, which features a single-lobed pattern. The emission direction \\nof the highest brightness is ~48° deviated from the plane of the device surface, and the full \\nwidth at half maximum (FWHM) of the beam pattern is ~17° × 32°.'), Paragraph(id=None, references=[], text='Fig.  6.  Power-current  density  (L-J)  curves  measured  at  different  heat-sink  temperature  for  a \\nTHz-MOPA-QCL device with a 1500-μm-long straight preamplifier (a), a FP laser (b), and a \\nsecond-order DFB laser (c). The maximum operation temperature for these 3 devices is 111 K, \\n118 K, and 113 K, respectively. The insets are the related emission spectra measured at 20 K. \\nAll  devices  are  fabricated  from  the  same  chip  and  measured  in  pulsed  mode  (40  kHz  repeat \\nfrequency, 1 μs pulse width).'), Paragraph(id=None, references=[], text='The light-current density (L-J) curves at different heat-sink temperature of a typical THz-\\nMOPA-QCL  are  presented  in  Fig. 6(a).  The  periodicity  of  the  DFB grating  is 16.2 μm,  the \\nstraight preamplifier is 1500 μm in length, and the periodicity of the grating coupler is 46.0 \\nμm,  the  emission  wavelength  is  ~116.0  μm.  The  whole  surface  area  of  the  device  is  0.82 \\nmm2.  The  maximum  output  power  of  the  MOPA  device  reaches  to  71  mW  at  20  K.  The \\ncorresponding slope efficiency and wall-plug efficiency at 20 K are 87.6 mW/A and 0.16%, \\nrespectively. For performance comparison, we also fabricated in the same chip FP lasers and'), Paragraph(id=None, references=[], text=''), Paragraph(id=None, references=[], text='second-order  DFB  lasers,  all  based  on  a  metal-metal  waveguide.  The  L-J  curves  of  a \\nrepresentative FP laser and a second-order DFB laser, measured under the same conditions, \\nare shown in Figs. 6(b) and 6(c). The FP laser is 220 μm in width and 2.1 mm in length. The \\nsecond-order DFB laser is 140-μm-wide and 1.4-mm-long, and the DFB grating contains 45 \\nperiods which is optimized according to our previous work [19]. The emission wavelength of \\nthe second-order DFB laser is 116.4 μm, which is near the peak of material gain and is close \\nto that of the MOPA presented in Fig. 6(a). Figure 6(b) illustrates that the FP laser exhibits a \\npeak  power  of  8.7  mW,  a  slope  efficiency  of  11.7  mW/A,  and  a  wall-plug  efficiency  of \\n0.035% at 20 K. The corresponding values for the second-order DFB laser are 3.8 mW, 21.4 \\nmW/A, and 0.041%, respectively. The output power of the MOPA device is far beyond those \\nof  the  FP  and  the  second-order  DFB  lasers,  so  do  the  slope  efficiency  and  the  wall-plug \\nefficiency. Note, although the surface area of the MOPA device is larger than the other two, \\nthe output power of the FP and the second-order DFB lasers does not scale linearly with the \\ndevice area.'), Paragraph(id=None, references=[], text='Fig. 7. Relationship between the peak power and the length of preamplifier for MOPA devices \\nwith  straight  or  tapered  preamplifiers.  All  devices  have  the  same  MO  and  grating  coupler \\nstructures. The periodicities of the DFB grating and the grating coupler are 16.2 μm and 46.0 \\nμm,  respectively.  All  devices  were  measured  at  20  K  in  pulsed  mode  (40  kHz  repeat \\nfrequency, 1 μs pulse length). During the measurement, all sections of the MOPA device were \\nequally pumped.'), Paragraph(id=None, references=[], text='To investigate the effect of power amplification in the MOPA devices, we measured the \\npeak output power (Pout) of the device as a function of the preamplifier length (Lpre), and the \\nresults are shown as the black circles in Fig. 7. The increase of Pout deviates significantly from \\n,  where  g  is  the  net  gain  of  the  preamplifier. \\nthe  exponential  function \\nEspecially, Pout almost keeps constant when Lpre ≥ 1000 μm. The phenomena strongly indicate \\nthe existence of gain saturation when we increase the length of the preamplifier.'), Paragraph(id=None, references=[], text='×\\ng L'), Paragraph(id=None, references=[], text='exp('), Paragraph(id=None, references=[], text='P\\nout'), Paragraph(id=None, references=[], text='∝'), Paragraph(id=None, references=[], text='pre'), Paragraph(id=None, references=[], text=')'), Paragraph(id=None, references=[], text='4. Reduce the gain saturation'), Paragraph(id=None, references=[], text='In order to reduce the gain saturation, we have also fabricated in the same chip THz-MOPA-\\nQCLs with a tapered preamplifier. When THz wave propagates from the narrow to the wide \\nport of the tapered preamplifier, the beam laterally spreads which will decrease the intensity \\ndensity  of  the  THz  beam  and  thus  reduce  the  gain  saturation.  Figures  8(a)  and  8(b)  show \\nrespectively a schematic and an SEM image of the new MOPA device. Note, the design of the \\nMO  and  the  grating  coupler  is  the  same  for  the  MOPA  with  a  straight  or  a  tapered \\npreamplifier.  Three  different  lengths  of  the  tapered  preamplifier  (500,  1000  and  1500  μm) \\nhave been tested, and the full taper angle is about 9°. The taper angle was chosen to enable an \\nefficient  utilization  of  the  gain  media.  On  the  other  hand,  the  grating  coupler  is  still \\nconsiderably  wider  than  the  tapered  preamplifier  in  order  to  reduce  the  reflection.  The \\ndetailed structure parameters of an MOPA device with a tapered preamplifier are described in \\nthe caption of Fig. 8.'), Paragraph(id=None, references=[], text=''), Paragraph(id=None, references=[], text='Fig.  8.  (a)  Schematic  diagram  of  a  THz-MOPA-QCL  with  a  tapered  preamplifier.  (b)  SEM \\npicture  of  a  MOPA  device  with  a  tapered  preamplifier.  The  buried  DFB  grating  in  the  MO \\nsection is 150 μm in width, and contains 80 periods with a central π-phase-shift. The grating \\ncoupler  is  600  μm  in  width,  and  contains  10  periods  with  a  periodicity  of  46.0  μm.  The \\npreamplifier is 1000 μm in length and the full taper angle is 9°. (c) Emission spectra of a set of \\nMOPA devices with straight or tapered preamplifiers. For all devices, the periodicities of the \\nDFB grating and the grating coupler are respectively 16.2 μm and 46.0 μm. The length and the \\ntype of the preamplifier are marked in the figure. (d) Far-field beam pattern of a MOPA device \\nwith a tapered preamplifier whose length is 1500 μm.'), Paragraph(id=None, references=[], text='Figure  8(c)  shows  the  emission  spectra  of  the  MOPA  devices  with  the  straight  or  the \\ntapered preamplifiers, where the MO section and the grating coupler are exactly the same. All \\nthe  devices  exhibit  the  same  emission  wavelength,  demonstrating  that  the  lasing  is  only \\nseeded  by  the  MO  section.  A  tapered  preamplifier,  however,  broadens  the  THz  wave  and \\nincreases the emission aperture which results in a more directional beam pattern. As shown in \\nFig.  8(d),  the  divergence  angle  of  the  MOPA  device  with  a  tapered  preamplifier  is  ~18°  × \\n16°. Figure 9 shows the L-J-V curves of an MOPA device with a tapered preamplifier whose \\nlength  is  1500  μm,  measured  at  different  temperature  in  pulsed  mode.  At  20  K,  the  output \\npower  of  the  MOPA  device  peaks  at  136  mW,  the  related  slope  efficiency  and  wall-plug \\nefficiency  are  143.6  mW/A  and  0.28%,  respectively.  The  peak  output  power  remains  53.4 \\nmW at 80 K, and the maximum operation temperature reaches 110 K. Compared with the FP \\nlaser and the second-order DFB laser fabricated from the same chip [see Figs. 6(b) and 6(c)], \\nthe MOPA device exhibits much higher output power, which is 36 times that of the second-\\norder DFB laser, and is 16 times that of the multimode FP laser (all measured at 20 K with the \\nsame  pulse  driving  conditions).  The  wall-plug  efficiency  of  the  MOPA  device  is  also \\nsignificantly  higher  than  the  other  two  kinds  of  lasers.  It  is  worth  noting  that  the  superior \\npower behaviors of the MOPA device are achieved without losing other characteristics such \\nas the maximum operation temperature in pulsed mode.'), Paragraph(id=None, references=[], text=''), Paragraph(id=None, references=[], text='Fig.  9.  L-J-V  curves  of  an  MOPA  device  with  a  tapered  preamplifier  measured  at  different \\noperation  temperature  in  pulsed  mode.  The  repeat  frequency  of  the  current  pulse  is  40  kHz, \\nand the pulse width is 1 μs. The length of the preamplifier is 1500 μm.'), Paragraph(id=None, references=[], text='We  now  reconsider  the  effect  of  gain  saturation  and  its  influence  on  the  power \\namplification. We measured the peak output power Pout of the MOPA devices as a function of \\nthe length (Lpre) of the tapered preamplifier, and the results are presented as the red triangles \\nin Fig. 7. Note that for MOPA devices measured in Fig. 7, except the length and the type of \\nthe preamplifiers, all the other structure parameters are the same and the details are given in \\nthe caption. For each designed structure, two devices have been measured and the results are \\npresented in Fig. 7, confirming perfect repeatability. Figure 7 illustrates when Lpre equals to \\n500  μm,  devices  with  the  straight  or  the  tapered  preamplifiers  have  nearly  the  same  peak \\noutput power. It strongly indicates that the gain saturation is negligible when Lpre ≤ 500 μm. \\nIn this case, the peak output power follows'), Paragraph(id=None, references=[], text='P\\nout'), Paragraph(id=None, references=[], text='='), Paragraph(id=None, references=[], text='P\\nout MO\\n,'), Paragraph(id=None, references=[], text='×'), Paragraph(id=None, references=[], text='η\\nPA'), Paragraph(id=None, references=[], text='='), Paragraph(id=None, references=[], text='P\\nout MO\\n,'), Paragraph(id=None, references=[], text='×'), Paragraph(id=None, references=[], text='exp('), Paragraph(id=None, references=[], text='×\\ng L'), Paragraph(id=None, references=[], text='×'), Paragraph(id=None, references=[], text=')'), Paragraph(id=None, references=[], text='κ'), Paragraph(id=None, references=[], text='GC'), Paragraph(id=None, references=[], text='.'), Paragraph(id=None, references=[], text='pre'), Paragraph(id=None, references=[], text='(1)'), Paragraph(id=None, references=[], text='Where Pout,MO is the seed power from the MO section, ηPA the amplification factor of the \\nPA section. κGC is the coupling efficiency, measuring the radiation power extracted from the \\ngrating  coupler  normalized  by  the  power  injected  into  it.  From  the  peak  output  power  of \\ndevices  in  which  Lamp  ≤  500  μm,  we  have  deduced  the  values  of  g,  κGC,  and  PMO  with  the \\nassistance  of  numerical  simulations.  We  assume  that  Pout,MO  and  κGC  keep  constant  because \\nthe devices have the same structure of the MO and the grating coupler. From the relationship \\nbetween the total output power and the preamplifier length, the net material gain g is found to \\nbe  ~25  cm−1.  Considering  this  deduced  gain,  the  FEM  simulations  show  that  the  coupling \\nefficiency κGC is about 1.25. With these data, we can further deduce from Eq. (1) that the seed \\npower  is  approximately  10.1  mW.  With  this  deduced  Pout,MO,  the  maximum  amplification \\nfactor ηPA (obtained in the MOPA device with a 1500-μm-long tapered preamplifier) is about \\n13.5. The green curve in Fig. 7 plots the relationship between Pout and Lpre described by Eq. \\n(1) with the deduced net gain and seed power. Figure 7 shows that, when Lpre ≥ 1000 μm, Pout \\nof  MOPA  devices  with  a  tapered  preamplifier  are  significantly  larger  than  those  with  a \\nstraight preamplifier, but are still less than the values predicted by Eq. (1). It indicates that the \\ntapered preamplifier reduces but does not completely overcome the gain saturation.'), Paragraph(id=None, references=[], text='Up to now, the gain saturation is the main issue limiting the preamplifier length and thus \\nthe  effect  of  power  amplification.  To  further  suppress  the  gain  saturation,  a  tapered \\npreamplifier  with  a  larger  taper  angle  is  necessary.  More  importantly,  the  spreading  of  the \\nTHz  wave  should  match  the  taper  angle.  The  export  of  the  MO  section  determines  the \\nemission aperture of the THz wave. The narrower the MO section, the more spread the THz \\nbeam in the preamplifier. Therefore, a lager taper angle requires a narrower MO section but it \\nin  turn  limits  the  seed  power.  In  order  to  further  improve  the  output  power  and  the  beam'), Paragraph(id=None, references=[], text=''), Paragraph(id=None, references=[], text=''), Paragraph(id=None, references=[], text=''), Paragraph(id=None, references=[], text='directionality of the MOPA devices, it is very necessary to optimize the seed power, the beam \\nspreading in the preamplifier, and the coupling efficiency of the grating coupler.'), Paragraph(id=None, references=[], text='5. Conclusions'), Paragraph(id=None, references=[], text='High power THz-MOPA-QCLs have been demonstrated by improving the seed power from \\nthe  MO  section,  suppressing  the residue reflection from  the grating  coupler,  and reduce  the \\ngain saturation in the preamplifier. The output power of the THz-MOPA-QCLs is more than \\none order of magnitude higher than the FP and the second-order DFB lasers fabricated from \\nthe  same  material.  Our  work  points  out  a  direction  for  the  realization  of  single-mode  THz-\\nQCLs with high output power and good beam quality.'), Paragraph(id=None, references=[], text='In our MOPA device, instead of high quality AR multilayers, a grating coupler together \\nwith an absorbing boundary exhibits extremely low reflectivity and high efficiency of power \\nextraction.  Thanks  to  the  scalability  of  the  Maxwell  equations,  the  MOPA  architecture \\ndeveloped in this work can be utilized in mid- and near-IR semiconductor lasers, and also in \\ndetectors and amplifiers for free space light radiation.'), Paragraph(id=None, references=[], text='Funding'), Paragraph(id=None, references=[], text='National  Natural  Science  Foundation  of  China  (61574149,  61734006);  The  Key  Project  of \\nChinese  National  Programs \\n(2016YFB0402303, \\n2016YFA0202200); “The Hundred Talents Program” of CAS; The Engineering and Physical \\nSciences  Research  Council  (EPSRC),  UK  (COTS  programme  EP/J017671/1);  The  Royal \\nSociety and Wolfson Foundation.'), Paragraph(id=None, references=[], text='for  Research  and  Development'), Paragraph(id=None, references=[], text='Acknowledgments'), Paragraph(id=None, references=[], text='We thank Dr. Raffaele Colombelli for helpful discussions.'), Paragraph(id=None, references=[], text='')]\n"
     ]
    }
   ],
   "source": [
    "#reading a sample journal paper\n",
    "with open('../../Evaluation Data(Articles)/oscillator power-amplifier.pdf', 'rb') as f:\n",
    "    doc = Document.from_file(f,fname=\"oscillator power-amplifier.pdf\")\n",
    "print(doc.paragraphs)"
   ]
  },
  {
   "cell_type": "code",
   "execution_count": 69,
   "id": "1aa2f9ff",
   "metadata": {},
   "outputs": [
    {
     "ename": "IndexError",
     "evalue": "list index out of range",
     "output_type": "error",
     "traceback": [
      "\u001b[0;31m---------------------------------------------------------------------------\u001b[0m",
      "\u001b[0;31mIndexError\u001b[0m                                Traceback (most recent call last)",
      "\u001b[1;32m/Users/johantorosjan/Desktop/stage/Code/qclProperties/Property Models/Customized Parsing/working_temperature.ipynb Cell 12\u001b[0m in \u001b[0;36m<cell line: 2>\u001b[0;34m()\u001b[0m\n\u001b[1;32m      <a href='vscode-notebook-cell:/Users/johantorosjan/Desktop/stage/Code/qclProperties/Property%20Models/Customized%20Parsing/working_temperature.ipynb#X14sZmlsZQ%3D%3D?line=0'>1</a>\u001b[0m \u001b[39m#Document Metadata\u001b[39;00m\n\u001b[0;32m----> <a href='vscode-notebook-cell:/Users/johantorosjan/Desktop/stage/Code/qclProperties/Property%20Models/Customized%20Parsing/working_temperature.ipynb#X14sZmlsZQ%3D%3D?line=1'>2</a>\u001b[0m doc\u001b[39m.\u001b[39;49mmetadata\n",
      "File \u001b[0;32m~/miniconda3/envs/mon_env/lib/python3.8/site-packages/chemdataextractor/doc/document.py:525\u001b[0m, in \u001b[0;36mDocument.metadata\u001b[0;34m(self)\u001b[0m\n\u001b[1;32m    521\u001b[0m \u001b[39m@property\u001b[39m\n\u001b[1;32m    522\u001b[0m \u001b[39mdef\u001b[39;00m \u001b[39mmetadata\u001b[39m(\u001b[39mself\u001b[39m):\n\u001b[1;32m    523\u001b[0m \u001b[39m    \u001b[39m\u001b[39m\"\"\"Return metadata information\u001b[39;00m\n\u001b[1;32m    524\u001b[0m \u001b[39m    \"\"\"\u001b[39;00m\n\u001b[0;32m--> 525\u001b[0m     \u001b[39mreturn\u001b[39;00m [el \u001b[39mfor\u001b[39;49;00m el \u001b[39min\u001b[39;49;00m \u001b[39mself\u001b[39;49m\u001b[39m.\u001b[39;49melements \u001b[39mif\u001b[39;49;00m \u001b[39misinstance\u001b[39;49m(el, MetaData)][\u001b[39m0\u001b[39;49m]\n",
      "\u001b[0;31mIndexError\u001b[0m: list index out of range"
     ]
    }
   ],
   "source": [
    "#Document Metadata\n",
    "doc.metadata"
   ]
  },
  {
   "cell_type": "code",
   "execution_count": null,
   "id": "c5d973ac",
   "metadata": {},
   "outputs": [],
   "source": [
    "#document elements\n",
    "#doc.elements"
   ]
  },
  {
   "cell_type": "code",
   "execution_count": 93,
   "id": "4b842ab2",
   "metadata": {},
   "outputs": [],
   "source": [
    "#setting the property model for the document\n",
    "doc.models = [WorkingTemperature]"
   ]
  },
  {
   "cell_type": "code",
   "execution_count": 97,
   "id": "2329474f",
   "metadata": {},
   "outputs": [],
   "source": [
    "#analyzing the individual tokens in the document and extracting the temperature record\n",
    "for p in doc.paragraphs:\n",
    "    for s in p.sentences:\n",
    "        x=s.tagged_tokens\n",
    "        for result in sentence_parser.root.scan(x):\n",
    "            print(\"ici\")\n",
    "            print(etree.tostring(result[0]), '\\n')\n",
    "            pprint(s.records.serialize())"
   ]
  },
  {
   "cell_type": "code",
   "execution_count": 67,
   "id": "14625973",
   "metadata": {},
   "outputs": [
    {
     "name": "stdout",
     "output_type": "stream",
     "text": [
      "[]\n"
     ]
    }
   ],
   "source": [
    "#analyzing the whole document tokens at once\n",
    "doc.models = [WorkingTemperature]\n",
    "results=doc.records.serialize()\n",
    "pprint(results)"
   ]
  }
 ],
 "metadata": {
  "kernelspec": {
   "display_name": "Python 3 (ipykernel)",
   "language": "python",
   "name": "python3"
  },
  "language_info": {
   "codemirror_mode": {
    "name": "ipython",
    "version": 3
   },
   "file_extension": ".py",
   "mimetype": "text/x-python",
   "name": "python",
   "nbconvert_exporter": "python",
   "pygments_lexer": "ipython3",
   "version": "3.8.16"
  }
 },
 "nbformat": 4,
 "nbformat_minor": 5
}
