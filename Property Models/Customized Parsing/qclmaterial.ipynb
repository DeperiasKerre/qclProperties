{
 "cells": [
  {
   "cell_type": "code",
   "execution_count": 1,
   "id": "e506ae15",
   "metadata": {},
   "outputs": [],
   "source": [
    "#future imports\n",
    "from __future__ import absolute_import\n",
    "from __future__ import division\n",
    "from __future__ import print_function\n",
    "from __future__ import unicode_literals\n",
    "from abc import abstractproperty, abstractmethod"
   ]
  },
  {
   "cell_type": "code",
   "execution_count": 2,
   "id": "fab8c7b6",
   "metadata": {},
   "outputs": [],
   "source": [
    "#libraries\n",
    "from chemdataextractor import Document\n",
    "from chemdataextractor.model import BaseModel, Compound, StringType, ModelType,ListType, ModelType, SetType\n",
    "from chemdataextractor.model.units import TemperatureModel, LengthModel\n",
    "from chemdataextractor.parse import R, I, W, Optional, merge, join, AutoSentenceParser\n",
    "from chemdataextractor.doc import Paragraph, Heading, Sentence\n",
    "from pprint import pprint\n",
    "from lxml import etree"
   ]
  },
  {
   "cell_type": "code",
   "execution_count": 3,
   "id": "01e88f20",
   "metadata": {},
   "outputs": [],
   "source": [
    "#the qcl material property model\n",
    "class QclMaterialDesign(BaseModel):\n",
    "    heterostructure=StringType()"
   ]
  },
  {
   "cell_type": "code",
   "execution_count": 4,
   "id": "aae2aad6",
   "metadata": {},
   "outputs": [],
   "source": [
    "#grammar rules for identifyimg the qcl material\n",
    "import re\n",
    "from chemdataextractor.parse import R,I,W,Optional,merge,join\n",
    "\n",
    "prefix= (I('grown')+I('in')|I('based')+I('on')|I('material')+I('system')|I('laser')+I('structure')|I('design')+I('based')+I('on')|I('QW')+I('structure')+I('based')+I('on')|I('growth')+I('system')|I('material')+I('of')+I('choice')+I('is')+I('material')+I('systems')|I('in')+I('the')|I('material')+I('combination')|I('wafer')|I('MBE')).hide()\n",
    "material_name= (R('G[aAs]')+W('/')+R('A[l]')+R('^\\d+(\\.\\d+)?$')+R('G[a]')+R('^\\d+(\\.\\d+)?$')+R('A[s]')|R('I[nGaAs]')+W('/')+R('A[lInAsInP]')|R('I[n]')+R('^\\d+(\\.\\d+)?$')+R('G[a]')+R('^\\d+(\\.\\d+)?$')+R('A[s]')+W('/')+R('G[a]')+R('A[s]')+R('^\\d+(\\.\\d+)?$')+R('S[b]')|R('I[nGaAs]')+W('/')+R('G[aAsSb]')|R('G[aAs]')+W('/')+R('A[lGaAs]')|R('I[nGaAs]')+W('/')+R('A[lInGaAs]'))('material_name').add_action(join)\n",
    "material = ((prefix + material_name| material_name))('material')"
   ]
  },
  {
   "cell_type": "code",
   "execution_count": 5,
   "id": "b2e589f1",
   "metadata": {},
   "outputs": [],
   "source": [
    "#logic for parsing the qcl material property\n",
    "from chemdataextractor.parse.base import BaseSentenceParser\n",
    "from chemdataextractor.utils import first\n",
    "\n",
    "class qclmaterialParser(BaseSentenceParser):\n",
    "    root = material\n",
    "\n",
    "    def interpret(self, result, start, end):\n",
    "        qcl_material = self.model( heterostructure=first(result.xpath('//text()')))\n",
    "        yield qcl_material"
   ]
  },
  {
   "cell_type": "code",
   "execution_count": 6,
   "id": "9b0f79c9",
   "metadata": {},
   "outputs": [],
   "source": [
    "#setting the parser and the property model\n",
    "QclMaterialDesign.parsers = [qclmaterialParser()]\n",
    "sentence_parser = qclmaterialParser\n",
    "sentence_parser.model = QclMaterialDesign"
   ]
  },
  {
   "cell_type": "code",
   "execution_count": 7,
   "id": "4126de74",
   "metadata": {},
   "outputs": [],
   "source": [
    "#sample sentences from the qcl journals\n",
    "s1 =  Sentence('High performance based on InGaAs/GaAsSb terahertz quantum cascade lasers operating up to 142 K')\n",
    "s2 =  Sentence('We report a quatum cascade laser grown in GaAs/AlGaAs material system.')\n",
    "s3 = Sentence('Here, we present a study in a magnetic field for InGaAs/AlInGaAs THz QCLs.')\n",
    "s4 =  Sentence('The four quantum well module  GaAs/Al0.15Ga0.85As is repeated multiple times to allow electron transport in a cascade scheme.')\n",
    "s5 = Sentence('Figure 1 shows the conduction band and moduli wavefunctions of the quantum states of the design which is based on GaAs/Al0.25Ga0.75As material system.')\n",
    "s6 = Sentence('Both devices were grown by molecular beam epitaxy with GaAs/Al0.3Ga0.7As quantum wells.')\n",
    "s7 = Sentence('We present two different terahertz quantum cascade laser \u0001QCL\u0002 designs based on GaAs/Al0.3Ga0.7As heterostructures that feature a depopulation mechanism of two longitudinal-optical phonon scattering events.') "
   ]
  },
  {
   "cell_type": "code",
   "execution_count": 8,
   "id": "5cbe9a49",
   "metadata": {},
   "outputs": [],
   "source": [
    "#specifying the model to be used for extracting the qcl material values\n",
    "s1.models = [QclMaterialDesign]\n",
    "s2.models = [QclMaterialDesign]\n",
    "s3.models = [QclMaterialDesign] \n",
    "s4.models = [QclMaterialDesign] \n",
    "s5.models = [QclMaterialDesign] \n",
    "s6.models = [QclMaterialDesign] \n",
    "s7.models = [QclMaterialDesign] "
   ]
  },
  {
   "cell_type": "code",
   "execution_count": 9,
   "id": "06d10660",
   "metadata": {},
   "outputs": [
    {
     "name": "stdout",
     "output_type": "stream",
     "text": [
      "[{'QclMaterialDesign': {'heterostructure': 'InGaAs / GaAsSb'}}]\n"
     ]
    }
   ],
   "source": [
    "#analyzing sentence s1\n",
    "pprint(s1.records.serialize())"
   ]
  },
  {
   "cell_type": "code",
   "execution_count": 10,
   "id": "c04d7eea",
   "metadata": {},
   "outputs": [
    {
     "name": "stdout",
     "output_type": "stream",
     "text": [
      "b'<material>InGaAs / GaAsSb</material>' \n",
      "\n",
      "[{'QclMaterialDesign': {'heterostructure': 'InGaAs / GaAsSb'}}]\n"
     ]
    }
   ],
   "source": [
    "#material record in s1\n",
    "for result in sentence_parser.root.scan(s1.tagged_tokens):\n",
    "    print(etree.tostring(result[0]), '\\n')\n",
    "    pprint(s1.records.serialize())"
   ]
  },
  {
   "cell_type": "code",
   "execution_count": 11,
   "id": "cc29c481",
   "metadata": {},
   "outputs": [
    {
     "name": "stdout",
     "output_type": "stream",
     "text": [
      "[{'QclMaterialDesign': {'heterostructure': 'GaAs / AlGaAs'}}]\n"
     ]
    }
   ],
   "source": [
    "#analyzing sentence s2\n",
    "pprint(s2.records.serialize())"
   ]
  },
  {
   "cell_type": "code",
   "execution_count": 12,
   "id": "306a0eef",
   "metadata": {},
   "outputs": [
    {
     "name": "stdout",
     "output_type": "stream",
     "text": [
      "b'<material>GaAs / AlGaAs</material>' \n",
      "\n",
      "[{'QclMaterialDesign': {'heterostructure': 'GaAs / AlGaAs'}}]\n"
     ]
    }
   ],
   "source": [
    "#material record in s2\n",
    "for result in sentence_parser.root.scan(s2.tagged_tokens):\n",
    "    print(etree.tostring(result[0]), '\\n')\n",
    "    pprint(s2.records.serialize())"
   ]
  },
  {
   "cell_type": "code",
   "execution_count": 13,
   "id": "5abedfe9",
   "metadata": {},
   "outputs": [
    {
     "name": "stdout",
     "output_type": "stream",
     "text": [
      "[{'QclMaterialDesign': {'heterostructure': 'InGaAs / AlInGaAs'}}]\n"
     ]
    }
   ],
   "source": [
    "#analyzing sentence s3\n",
    "pprint(s3.records.serialize())"
   ]
  },
  {
   "cell_type": "code",
   "execution_count": 14,
   "id": "6cfc3c93",
   "metadata": {},
   "outputs": [
    {
     "name": "stdout",
     "output_type": "stream",
     "text": [
      "b'<material>InGaAs / AlInGaAs</material>' \n",
      "\n",
      "[{'QclMaterialDesign': {'heterostructure': 'InGaAs / AlInGaAs'}}]\n"
     ]
    }
   ],
   "source": [
    "#material record in s3\n",
    "for result in sentence_parser.root.scan(s3.tagged_tokens):\n",
    "    print(etree.tostring(result[0]), '\\n')\n",
    "    pprint(s3.records.serialize())"
   ]
  },
  {
   "cell_type": "code",
   "execution_count": 15,
   "id": "05e205d7",
   "metadata": {},
   "outputs": [
    {
     "name": "stdout",
     "output_type": "stream",
     "text": [
      "[{'QclMaterialDesign': {'heterostructure': 'GaAs / Al0.15Ga0.85As'}}]\n"
     ]
    }
   ],
   "source": [
    "#analyzing sentence s4\n",
    "pprint(s4.records.serialize())"
   ]
  },
  {
   "cell_type": "code",
   "execution_count": 16,
   "id": "d9e3cd11",
   "metadata": {},
   "outputs": [
    {
     "name": "stdout",
     "output_type": "stream",
     "text": [
      "b'<material>GaAs / Al0.15Ga0.85As</material>' \n",
      "\n",
      "[{'QclMaterialDesign': {'heterostructure': 'GaAs / Al0.15Ga0.85As'}}]\n"
     ]
    }
   ],
   "source": [
    "#material record in s4\n",
    "for result in sentence_parser.root.scan(s4.tagged_tokens):\n",
    "    print(etree.tostring(result[0]), '\\n')\n",
    "    pprint(s4.records.serialize())"
   ]
  },
  {
   "cell_type": "code",
   "execution_count": 17,
   "id": "7d721279",
   "metadata": {},
   "outputs": [
    {
     "name": "stdout",
     "output_type": "stream",
     "text": [
      "[{'QclMaterialDesign': {'heterostructure': 'GaAs / Al0.25Ga0.75As'}}]\n"
     ]
    }
   ],
   "source": [
    "#analyzing sentence s5\n",
    "pprint(s5.records.serialize())"
   ]
  },
  {
   "cell_type": "code",
   "execution_count": 18,
   "id": "6e0b29ac",
   "metadata": {},
   "outputs": [
    {
     "name": "stdout",
     "output_type": "stream",
     "text": [
      "b'<material>GaAs / Al0.15Ga0.85As</material>' \n",
      "\n",
      "[{'QclMaterialDesign': {'heterostructure': 'GaAs / Al0.25Ga0.75As'}}]\n"
     ]
    }
   ],
   "source": [
    "#material record in s5\n",
    "for result in sentence_parser.root.scan(s4.tagged_tokens):\n",
    "    print(etree.tostring(result[0]), '\\n')\n",
    "    pprint(s5.records.serialize())"
   ]
  },
  {
   "cell_type": "code",
   "execution_count": 19,
   "id": "11851823",
   "metadata": {},
   "outputs": [
    {
     "name": "stdout",
     "output_type": "stream",
     "text": [
      "[{'QclMaterialDesign': {'heterostructure': 'GaAs / Al0.3Ga0.7As'}}]\n"
     ]
    }
   ],
   "source": [
    "#analyzing sentence s6\n",
    "pprint(s6.records.serialize())"
   ]
  },
  {
   "cell_type": "code",
   "execution_count": 20,
   "id": "41709f91",
   "metadata": {},
   "outputs": [
    {
     "name": "stdout",
     "output_type": "stream",
     "text": [
      "b'<material>GaAs / Al0.15Ga0.85As</material>' \n",
      "\n",
      "[{'QclMaterialDesign': {'heterostructure': 'GaAs / Al0.3Ga0.7As'}}]\n"
     ]
    }
   ],
   "source": [
    "#material record in s6\n",
    "for result in sentence_parser.root.scan(s4.tagged_tokens):\n",
    "    print(etree.tostring(result[0]), '\\n')\n",
    "    pprint(s6.records.serialize())"
   ]
  },
  {
   "cell_type": "code",
   "execution_count": 21,
   "id": "1d4f612b",
   "metadata": {},
   "outputs": [
    {
     "name": "stdout",
     "output_type": "stream",
     "text": [
      "[{'QclMaterialDesign': {'heterostructure': 'GaAs / Al0.3Ga0.7As'}}]\n"
     ]
    }
   ],
   "source": [
    "#analyzing sentence s7\n",
    "pprint(s7.records.serialize())"
   ]
  },
  {
   "cell_type": "code",
   "execution_count": 22,
   "id": "3be6374d",
   "metadata": {},
   "outputs": [
    {
     "name": "stdout",
     "output_type": "stream",
     "text": [
      "b'<material>GaAs / Al0.15Ga0.85As</material>' \n",
      "\n",
      "[{'QclMaterialDesign': {'heterostructure': 'GaAs / Al0.3Ga0.7As'}}]\n"
     ]
    }
   ],
   "source": [
    "#material record in s7\n",
    "for result in sentence_parser.root.scan(s4.tagged_tokens):\n",
    "    print(etree.tostring(result[0]), '\\n')\n",
    "    pprint(s6.records.serialize())"
   ]
  },
  {
   "cell_type": "code",
   "execution_count": 23,
   "id": "d8501ad4",
   "metadata": {},
   "outputs": [
    {
     "name": "stdout",
     "output_type": "stream",
     "text": [
      "<Document: 476 elements>\n"
     ]
    }
   ],
   "source": [
    "#reading a sample journal paper\n",
    "with open('p (11).html', 'rb') as f:\n",
    "    doc = Document.from_file(f)\n",
    "print(doc)"
   ]
  },
  {
   "cell_type": "code",
   "execution_count": 24,
   "id": "21b0aa0a",
   "metadata": {},
   "outputs": [
    {
     "data": {
      "text/plain": [
       "{'title': 'High performance InGaAs/GaAsSb terahertz quantum cascade lasers operating up to 142\\u2009K', 'authors': ['C.  Deutsch', 'M.  Krall', 'M.  Brandstetter', 'H.  Detz', 'A. M.  Andrews', 'P.  Klang', 'W.  Schrenk', 'G.  Strasser', 'K.  Unterrainer'], 'publisher': 'American Institute of PhysicsAIP', 'journal': 'Applied Physics Letters', 'date': '2012-11-19', 'volume': '101', 'issue': '21', 'firstpage': '211117', 'doi': '10.1063/1.4766915', 'pdf_url': 'https://aip.scitation.org/doi/pdf/10.1063/1.4766915', 'html_url': 'https://aip.scitation.org/doi/abs/10.1063/1.4766915'}"
      ]
     },
     "execution_count": 24,
     "metadata": {},
     "output_type": "execute_result"
    }
   ],
   "source": [
    "#Document Metadata\n",
    "doc.metadata"
   ]
  },
  {
   "cell_type": "code",
   "execution_count": 25,
   "id": "7e68ed5f",
   "metadata": {},
   "outputs": [],
   "source": [
    "#document elements\n",
    "#doc.elements"
   ]
  },
  {
   "cell_type": "code",
   "execution_count": 26,
   "id": "7f6d7a43",
   "metadata": {},
   "outputs": [],
   "source": [
    "#setting the property model for the document\n",
    "doc.models = [QclMaterialDesign]"
   ]
  },
  {
   "cell_type": "code",
   "execution_count": 27,
   "id": "f0199dd8",
   "metadata": {},
   "outputs": [
    {
     "name": "stdout",
     "output_type": "stream",
     "text": [
      "b'<material>InGaAs / GaAsSb</material>' \n",
      "\n",
      "[{'QclMaterialDesign': {'heterostructure': 'InGaAs / GaAsSb'}}]\n",
      "b'<material>InGaAs / AlGaAs</material>' \n",
      "\n",
      "[{'QclMaterialDesign': {'heterostructure': 'InGaAs / AlGaAs'}}]\n",
      "b'<material>GaAs / Al0.15Ga0.85As</material>' \n",
      "\n",
      "[{'QclMaterialDesign': {'heterostructure': 'GaAs / Al0.15Ga0.85As'}}]\n",
      "b'<material>InGaAs / AlAs(Sb)</material>' \n",
      "\n",
      "[{'QclMaterialDesign': {'heterostructure': 'InGaAs / AlAs(Sb)'}}]\n",
      "b'<material>InGaAs / InAlAs</material>' \n",
      "\n",
      "[{'QclMaterialDesign': {'heterostructure': 'InGaAs / InAlAs'}}]\n",
      "b'<material>In0.53Ga0.47As / GaAs0.51Sb0.49</material>' \n",
      "\n",
      "[{'QclMaterialDesign': {'heterostructure': 'In0.53Ga0.47As / GaAs0.51Sb0.49'}}]\n",
      "b'<material>InGaAs / InAlAs,44</material>' \n",
      "\n",
      "[{'QclMaterialDesign': {'heterostructure': 'InGaAs / InAlAs,44'}}]\n",
      "b'<material>GaAs / Al0.15Ga0.85As.5,65</material>' \n",
      "\n",
      "[{'QclMaterialDesign': {'heterostructure': 'GaAs / Al0.15Ga0.85As.5,65'}}]\n",
      "b'<material>InGaAs / InAlAs</material>' \n",
      "\n",
      "[{'QclMaterialDesign': {'heterostructure': 'InGaAs / InAlAs'}}]\n",
      "b'<material>GaAs / AlGaAs</material>' \n",
      "\n",
      "[{'QclMaterialDesign': {'heterostructure': 'GaAs / AlGaAs'}},\n",
      " {'QclMaterialDesign': {'heterostructure': 'InGaAs / InAlAs.8'}}]\n",
      "b'<material>InGaAs / InAlAs.8</material>' \n",
      "\n",
      "[{'QclMaterialDesign': {'heterostructure': 'GaAs / AlGaAs'}},\n",
      " {'QclMaterialDesign': {'heterostructure': 'InGaAs / InAlAs.8'}}]\n",
      "b'<material>InGaAs / InAlAs</material>' \n",
      "\n",
      "[{'QclMaterialDesign': {'heterostructure': 'InGaAs / InAlAs'}},\n",
      " {'QclMaterialDesign': {'heterostructure': 'GaAs / AlGaAs.5,95'}}]\n",
      "b'<material>GaAs / AlGaAs.5,95</material>' \n",
      "\n",
      "[{'QclMaterialDesign': {'heterostructure': 'InGaAs / InAlAs'}},\n",
      " {'QclMaterialDesign': {'heterostructure': 'GaAs / AlGaAs.5,95'}}]\n",
      "b'<material>GaAs / AlGaAs</material>' \n",
      "\n",
      "[{'QclMaterialDesign': {'heterostructure': 'GaAs / AlGaAs'}}]\n",
      "b'<material>InAs / AlSb</material>' \n",
      "\n",
      "[{'QclMaterialDesign': {'heterostructure': 'InAs / AlSb'}}]\n",
      "b'<material>InGaAs / InAlAs</material>' \n",
      "\n",
      "[{'QclMaterialDesign': {'heterostructure': 'InGaAs / InAlAs'}}]\n",
      "b'<material>In0.53Ga0.47As / GaAs0.51Sb0.49</material>' \n",
      "\n",
      "[{'QclMaterialDesign': {'heterostructure': 'In0.53Ga0.47As / GaAs0.51Sb0.49'}}]\n",
      "b'<material>GaAs / Al0.15Ga0.85As</material>' \n",
      "\n",
      "[{'QclMaterialDesign': {'heterostructure': 'GaAs / Al0.15Ga0.85As'}}]\n",
      "b'<material>GaAs / Al0.15Ga0.85As</material>' \n",
      "\n",
      "[{'QclMaterialDesign': {'heterostructure': 'GaAs / Al0.15Ga0.85As'}}]\n",
      "b'<material>In0.53Ga0.47As / GaAs0.51Sb0.49</material>' \n",
      "\n",
      "[{'QclMaterialDesign': {'heterostructure': 'In0.53Ga0.47As / GaAs0.51Sb0.49'}},\n",
      " {'QclMaterialDesign': {'heterostructure': 'GaAs / Al0.40Ga0.60As'}}]\n",
      "b'<material>GaAs / Al0.40Ga0.60As</material>' \n",
      "\n",
      "[{'QclMaterialDesign': {'heterostructure': 'In0.53Ga0.47As / GaAs0.51Sb0.49'}},\n",
      " {'QclMaterialDesign': {'heterostructure': 'GaAs / Al0.40Ga0.60As'}}]\n",
      "b'<material>GaAs / Al0.15Ga0.85As</material>' \n",
      "\n",
      "[{'QclMaterialDesign': {'heterostructure': 'GaAs / Al0.15Ga0.85As'}}]\n",
      "b'<material>GaAs / Al0.40Ga0.60As</material>' \n",
      "\n",
      "[{'QclMaterialDesign': {'heterostructure': 'GaAs / Al0.40Ga0.60As'}}]\n",
      "b'<material>GaAs / Al0.40Ga0.60As</material>' \n",
      "\n",
      "[{'QclMaterialDesign': {'heterostructure': 'GaAs / Al0.40Ga0.60As'}},\n",
      " {'QclMaterialDesign': {'heterostructure': 'In0.53Ga0.47As / GaAs0.51Sb0.49'}}]\n",
      "b'<material>In0.53Ga0.47As / GaAs0.51Sb0.49</material>' \n",
      "\n",
      "[{'QclMaterialDesign': {'heterostructure': 'GaAs / Al0.40Ga0.60As'}},\n",
      " {'QclMaterialDesign': {'heterostructure': 'In0.53Ga0.47As / GaAs0.51Sb0.49'}}]\n",
      "b'<material>In0.53Ga0.47As / GaAs0.51Sb0.49.13,1713</material>' \n",
      "\n",
      "[{'QclMaterialDesign': {'heterostructure': 'In0.53Ga0.47As / '\n",
      "                                           'GaAs0.51Sb0.49.13,1713'}}]\n",
      "b'<material>InGaAs / InAlAs</material>' \n",
      "\n",
      "[{'QclMaterialDesign': {'heterostructure': 'InGaAs / InAlAs'}}]\n",
      "b'<material>InGaAs / GaAsSb</material>' \n",
      "\n",
      "[{'QclMaterialDesign': {'heterostructure': 'InGaAs / GaAsSb'}}]\n",
      "b'<material>InGaAs / InAlAs</material>' \n",
      "\n",
      "[{'QclMaterialDesign': {'heterostructure': 'InGaAs / InAlAs'}}]\n",
      "b'<material>In0.53Ga0.47As / GaAs0.51Sb0.49</material>' \n",
      "\n",
      "[{'QclMaterialDesign': {'heterostructure': 'In0.53Ga0.47As / GaAs0.51Sb0.49'}}]\n",
      "b'<material>InGaAs / GaAsSb</material>' \n",
      "\n",
      "[{'QclMaterialDesign': {'heterostructure': 'InGaAs / GaAsSb'}}]\n",
      "b'<material>InGaAs / GaAsSb</material>' \n",
      "\n",
      "[{'QclMaterialDesign': {'heterostructure': 'InGaAs / GaAsSb'}}]\n",
      "b'<material>InGaAs / InAlAs</material>' \n",
      "\n",
      "[{'QclMaterialDesign': {'heterostructure': 'InGaAs / InAlAs'}}]\n",
      "b'<material>GaAs / AlGaAs</material>' \n",
      "\n",
      "[{'QclMaterialDesign': {'heterostructure': 'GaAs / AlGaAs'}}]\n",
      "b'<material>InGaAs / GaAsSb</material>' \n",
      "\n",
      "[{'QclMaterialDesign': {'heterostructure': 'InGaAs / GaAsSb'}}]\n",
      "b'<material>GaAs / AlGaAs</material>' \n",
      "\n",
      "[{'QclMaterialDesign': {'heterostructure': 'GaAs / AlGaAs'}}]\n",
      "b'<material>InGaAs / GaAsSb</material>' \n",
      "\n",
      "[{'QclMaterialDesign': {'heterostructure': 'InGaAs / GaAsSb'}}]\n",
      "b'<material>GaAs / AlGaAs</material>' \n",
      "\n",
      "[{'QclMaterialDesign': {'heterostructure': 'GaAs / AlGaAs'}}]\n"
     ]
    }
   ],
   "source": [
    "#analyzing the individual tokens in the document and extracting the qcl material  record\n",
    "for p in doc.paragraphs:\n",
    "    for s in p.sentences:\n",
    "        x=s.tagged_tokens\n",
    "        for result in sentence_parser.root.scan(x):\n",
    "            print(etree.tostring(result[0]), '\\n')\n",
    "            pprint(s.records.serialize())"
   ]
  },
  {
   "cell_type": "code",
   "execution_count": 28,
   "id": "67d3f95a",
   "metadata": {},
   "outputs": [
    {
     "name": "stdout",
     "output_type": "stream",
     "text": [
      "[{'QclMaterialDesign': {'heterostructure': 'InGaAs / GaAsSb'}},\n",
      " {'QclMaterialDesign': {'heterostructure': 'InGaAs / AlGaAs'}},\n",
      " {'QclMaterialDesign': {'heterostructure': 'GaAs / Al0.15Ga0.85As'}},\n",
      " {'QclMaterialDesign': {'heterostructure': 'InGaAs / AlAs(Sb)'}},\n",
      " {'QclMaterialDesign': {'heterostructure': 'InGaAs / InAlAs'}},\n",
      " {'QclMaterialDesign': {'heterostructure': 'In0.53Ga0.47As / GaAs0.51Sb0.49'}},\n",
      " {'QclMaterialDesign': {'heterostructure': 'InGaAs / InAlAs,44'}},\n",
      " {'QclMaterialDesign': {'heterostructure': 'GaAs / Al0.15Ga0.85As.5,65'}},\n",
      " {'QclMaterialDesign': {'heterostructure': 'GaAs / AlGaAs'}},\n",
      " {'QclMaterialDesign': {'heterostructure': 'InGaAs / InAlAs.8'}},\n",
      " {'QclMaterialDesign': {'heterostructure': 'GaAs / AlGaAs.5,95'}},\n",
      " {'QclMaterialDesign': {'heterostructure': 'InAs / AlSb'}},\n",
      " {'QclMaterialDesign': {'heterostructure': 'GaAs / Al0.40Ga0.60As'}},\n",
      " {'QclMaterialDesign': {'heterostructure': 'In0.53Ga0.47As / '\n",
      "                                           'GaAs0.51Sb0.49.13,1713'}}]\n"
     ]
    }
   ],
   "source": [
    "#analyzing the whole document at once\n",
    "doc.models = [QclMaterialDesign]\n",
    "results=doc.records.serialize()\n",
    "pprint(results)"
   ]
  }
 ],
 "metadata": {
  "kernelspec": {
   "display_name": "Python 3 (ipykernel)",
   "language": "python",
   "name": "python3"
  },
  "language_info": {
   "codemirror_mode": {
    "name": "ipython",
    "version": 3
   },
   "file_extension": ".py",
   "mimetype": "text/x-python",
   "name": "python",
   "nbconvert_exporter": "python",
   "pygments_lexer": "ipython3",
   "version": "3.7.9"
  }
 },
 "nbformat": 4,
 "nbformat_minor": 5
}
