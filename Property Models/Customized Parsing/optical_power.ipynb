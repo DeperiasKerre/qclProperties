{
 "cells": [
  {
   "cell_type": "code",
   "execution_count": 1,
   "id": "22980ffd",
   "metadata": {},
   "outputs": [],
   "source": [
    "#future imports\n",
    "from __future__ import absolute_import\n",
    "from __future__ import division\n",
    "from __future__ import print_function\n",
    "from __future__ import unicode_literals"
   ]
  },
  {
   "cell_type": "code",
   "execution_count": 2,
   "id": "55188a18",
   "metadata": {},
   "outputs": [],
   "source": [
    "#libraries\n",
    "from chemdataextractor import Document\n",
    "from chemdataextractor.model import BaseModel, Compound, StringType, ModelType\n",
    "from chemdataextractor.model.units import TemperatureModel, LengthModel\n",
    "from chemdataextractor.parse import R, I, W, Optional, merge, join, AutoSentenceParser\n",
    "from chemdataextractor.parse.elements import W, I, R, Optional, Any, OneOrMore, Not, ZeroOrMore\n",
    "from chemdataextractor.doc import Paragraph, Heading, Sentence\n",
    "from lxml import etree\n",
    "from pprint import pprint"
   ]
  },
  {
   "cell_type": "code",
   "execution_count": 3,
   "id": "2620f3a5",
   "metadata": {},
   "outputs": [],
   "source": [
    "#Units and models definition for power in mW and µW\n",
    "#extends the powerModel with the milliwatt and microwatt class in order to capture power measurements in milliwatts and microwatts.\n",
    "from chemdataextractor.model.units.dimension import Dimension\n",
    "from chemdataextractor.model.units.quantity_model import QuantityModel\n",
    "from chemdataextractor.model.units.unit import Unit\n",
    "from chemdataextractor.model.units.charge import Charge\n",
    "from chemdataextractor.model.units.energy import Energy\n",
    "from chemdataextractor.model.units.electric_potential import ElectricPotential\n",
    "from chemdataextractor.model.units.current import ElectricalCurrent\n",
    "import logging\n",
    "log = logging.getLogger(__name__)\n",
    "\n",
    "class Power(Dimension):\n",
    "    constituent_dimensions = ElectricPotential() * ElectricalCurrent()\n",
    "\n",
    "\n",
    "class PowerModel(QuantityModel):\n",
    "    dimensions = Power()\n",
    "\n",
    "\n",
    "class PowerUnit(Unit):\n",
    "\n",
    "    def __init__(self, magnitude=0.0, powers=None):\n",
    "        super(PowerUnit, self).__init__(Power(), magnitude, powers)\n",
    "\n",
    "\n",
    "class Watt(PowerUnit):\n",
    "\n",
    "    def convert_value_to_standard(self, value):\n",
    "        return value\n",
    "\n",
    "    def convert_value_from_standard(self, value):\n",
    "        return value\n",
    "\n",
    "    def convert_error_to_standard(self, error):\n",
    "        return error\n",
    "\n",
    "    def convert_error_from_standard(self, error):\n",
    "        return error\n",
    "    \n",
    "class milliwatt(PowerUnit):\n",
    "    \"\"\"\n",
    "    Class for power in milliwatt\n",
    "    \"\"\"\n",
    "\n",
    "    def convert_value_to_standard(self, value):\n",
    "        return value/1000\n",
    "\n",
    "    def convert_value_from_standard(self, value):\n",
    "        return value*1000\n",
    "    def convert_error_to_standard(self, error):\n",
    "        return error\n",
    "\n",
    "    def convert_error_from_standard(self, error):\n",
    "        return error\n",
    "    \n",
    "class microwatt(PowerUnit):\n",
    "    \"\"\"\n",
    "    Class for power in microwatt\n",
    "    \"\"\"\n",
    "\n",
    "    def convert_value_to_standard(self, value):\n",
    "        return value/1000000\n",
    "\n",
    "    def convert_value_from_standard(self, value):\n",
    "        return value*1000000\n",
    "    def convert_error_to_standard(self, error):\n",
    "        return error\n",
    "\n",
    "    def convert_error_from_standard(self, error):\n",
    "        return error\n",
    "\n",
    "units_dict = {R('(W|w)(att(s)?)?', group=0): Watt, R('(mW|(milli(W|w)watt(s)?))\\.?', group=0): milliwatt,R('(µW|(micro(W|w)watt(s)?))\\.?', group=0): milliwatt }\n",
    "Power.units_dict.update(units_dict)\n",
    "Power.standard_units = Watt()"
   ]
  },
  {
   "cell_type": "code",
   "execution_count": 4,
   "id": "9d80d781",
   "metadata": {},
   "outputs": [],
   "source": [
    "#optical power property model\n",
    "class OpticalPower(PowerModel):\n",
    "    value = StringType()\n",
    "    units = StringType(contextual=True)"
   ]
  },
  {
   "cell_type": "code",
   "execution_count": 5,
   "id": "0091e84e",
   "metadata": {},
   "outputs": [],
   "source": [
    "#grammar rules for identifyimg the the optical power\n",
    "import re\n",
    "from chemdataextractor.parse import R, I, W, Optional, merge\n",
    "\n",
    "prefix = (I('peak') + I('power') + I('of')|I('peak')+I('-')+I('power')+I('of')|(I('peak')+I('power')+I('is')+I('approximately')|I('maximum')+I('output')+I('power')+I('of')|I('peak')+I('optical')+I('powers')+I('up')+I('to'))).hide()\n",
    "units = (W('mW')|W('µW'))('units').add_action(merge)\n",
    "value = R('^\\d+(\\.\\d+)?$')('value')\n",
    "op = (prefix + value + units)('op')"
   ]
  },
  {
   "cell_type": "code",
   "execution_count": 6,
   "id": "a00386ce",
   "metadata": {},
   "outputs": [],
   "source": [
    "#the logic for parsing the optical power value\n",
    "from chemdataextractor.parse.base import BaseSentenceParser\n",
    "from chemdataextractor.utils import first\n",
    "from lxml import etree\n",
    "\n",
    "class OpParser(BaseSentenceParser):\n",
    "    root = op\n",
    "\n",
    "    def interpret(self, result, start, end):\n",
    "        raw_value = first(result.xpath('./value/text()'))\n",
    "        raw_units = first(result.xpath('./units/text()'))\n",
    "        optical_power = self.model(raw_value=raw_value,\n",
    "                    raw_units=raw_units,\n",
    "                    value=self.extract_value(raw_value),\n",
    "                    error=self.extract_error(raw_value),\n",
    "                    units=self.extract_units(raw_units, strict=True))\n",
    "        cem_el = first(result.xpath('./cem'))\n",
    "        if cem_el is not None:\n",
    "            optical_power.compound = Compound()\n",
    "            optical_power.compound.names = cem_el.xpath('./name/text()')\n",
    "            optical_power.compound.labels = cem_el.xpath('./label/text()')\n",
    "        yield optical_power"
   ]
  },
  {
   "cell_type": "code",
   "execution_count": 7,
   "id": "a46080ba",
   "metadata": {},
   "outputs": [],
   "source": [
    "#adding the defined optical power parser(logic) to the optical power property model\n",
    "OpticalPower.parsers = [OpParser()]"
   ]
  },
  {
   "cell_type": "code",
   "execution_count": 8,
   "id": "8cb4b226",
   "metadata": {},
   "outputs": [],
   "source": [
    "#sample sentences from the qcl journals\n",
    "s1=  Sentence('Operating at 5 K in pulsed mode, the threshold current density is 840 A/cm2, and the peak power is approximately 2.5 mW.')\n",
    "s2 = Sentence('The devices exhibit threshold current densities of 0.75 kA/cm2 and provide peak optical powers up to 9mW.')\n",
    "s3 = Sentence('Laser spectra were measured with a room temperature detector, making the whole setup cryogenic low temperatures (\u000240 K), a maximum output power of 200 mW was measured.')"
   ]
  },
  {
   "cell_type": "code",
   "execution_count": 9,
   "id": "196ff9b1",
   "metadata": {},
   "outputs": [],
   "source": [
    "#specifying the model to be used for extracting the power values\n",
    "s1.models = [OpticalPower]\n",
    "s2.models = [OpticalPower]\n",
    "s3.models = [OpticalPower] "
   ]
  },
  {
   "cell_type": "code",
   "execution_count": 10,
   "id": "b7035014",
   "metadata": {},
   "outputs": [
    {
     "name": "stdout",
     "output_type": "stream",
     "text": [
      "[{'OpticalPower': {'raw_units': 'mW',\n",
      "                   'raw_value': '2.5',\n",
      "                   'units': '(10^-3.0) * Watt^(1.0)',\n",
      "                   'value': '[2.5]'}}]\n"
     ]
    }
   ],
   "source": [
    "pprint(s1.records.serialize())"
   ]
  },
  {
   "cell_type": "code",
   "execution_count": 11,
   "id": "dde66d97",
   "metadata": {},
   "outputs": [
    {
     "name": "stdout",
     "output_type": "stream",
     "text": [
      "[{'OpticalPower': {'raw_units': 'mW',\n",
      "                   'raw_value': '9',\n",
      "                   'units': '(10^-3.0) * Watt^(1.0)',\n",
      "                   'value': '[9.0]'}}]\n"
     ]
    }
   ],
   "source": [
    "pprint(s2.records.serialize())"
   ]
  },
  {
   "cell_type": "code",
   "execution_count": 12,
   "id": "933ad96a",
   "metadata": {},
   "outputs": [
    {
     "name": "stdout",
     "output_type": "stream",
     "text": [
      "[{'OpticalPower': {'raw_units': 'mW',\n",
      "                   'raw_value': '200',\n",
      "                   'units': '(10^-3.0) * Watt^(1.0)',\n",
      "                   'value': '[200.0]'}}]\n"
     ]
    }
   ],
   "source": [
    "pprint(s3.records.serialize())"
   ]
  },
  {
   "cell_type": "code",
   "execution_count": 13,
   "id": "d03d9cf8",
   "metadata": {},
   "outputs": [
    {
     "name": "stdout",
     "output_type": "stream",
     "text": [
      "<Document: 204 elements>\n"
     ]
    }
   ],
   "source": [
    "#reading a sample journal paper\n",
    "with open('345.html', 'rb') as f:\n",
    "    doc = Document.from_file(f)\n",
    "print(doc)"
   ]
  },
  {
   "cell_type": "code",
   "execution_count": 14,
   "id": "91b694d2",
   "metadata": {},
   "outputs": [
    {
     "data": {
      "text/plain": [
       "{'title': '3.4-THz quantum cascade laser based on longitudinal-optical-phonon scattering for depopulation', 'authors': ['Benjamin S.  Williams', 'Hans  Callebaut', 'Sushil  Kumar', 'Qing  Hu', 'John L.  Reno'], 'publisher': 'American Institute of PhysicsAIP', 'journal': 'Applied Physics Letters', 'date': '2003-02-17', 'volume': '82', 'issue': '7', 'firstpage': '1015', 'doi': '10.1063/1.1554479', 'pdf_url': 'https://aip.scitation.org/doi/pdf/10.1063/1.1554479', 'html_url': 'https://aip.scitation.org/doi/abs/10.1063/1.1554479'}"
      ]
     },
     "execution_count": 14,
     "metadata": {},
     "output_type": "execute_result"
    }
   ],
   "source": [
    "#Document Metadata\n",
    "doc.metadata"
   ]
  },
  {
   "cell_type": "code",
   "execution_count": 15,
   "id": "4ae65eea",
   "metadata": {},
   "outputs": [
    {
     "name": "stdout",
     "output_type": "stream",
     "text": [
      "[{'OpticalPower': {'raw_units': 'mW',\n",
      "                   'raw_value': '2.5',\n",
      "                   'units': '(10^-3.0) * Watt^(1.0)',\n",
      "                   'value': '[2.5]'}}]\n"
     ]
    }
   ],
   "source": [
    "#Extracting the temperature property from the document\n",
    "doc.models = [OpticalPower]\n",
    "results=doc.records.serialize()\n",
    "pprint(results)"
   ]
  }
 ],
 "metadata": {
  "kernelspec": {
   "display_name": "Python 3 (ipykernel)",
   "language": "python",
   "name": "python3"
  },
  "language_info": {
   "codemirror_mode": {
    "name": "ipython",
    "version": 3
   },
   "file_extension": ".py",
   "mimetype": "text/x-python",
   "name": "python",
   "nbconvert_exporter": "python",
   "pygments_lexer": "ipython3",
   "version": "3.7.9"
  }
 },
 "nbformat": 4,
 "nbformat_minor": 5
}
