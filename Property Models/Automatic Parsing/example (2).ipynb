{
 "cells": [
  {
   "cell_type": "code",
   "execution_count": 1,
   "id": "2e605b15",
   "metadata": {},
   "outputs": [],
   "source": [
    "from chemdataextractor import Document\n",
    "from chemdataextractor.model import BaseModel, Compound, StringType, ModelType\n",
    "from chemdataextractor.model.units import TemperatureModel, LengthModel\n",
    "from chemdataextractor.parse import R, I, W, Optional, merge, join, AutoSentenceParser\n",
    "from chemdataextractor.doc import Paragraph, Heading, Sentence\n",
    "from pprint import pprint\n",
    "from lxml import etree"
   ]
  },
  {
   "cell_type": "code",
   "execution_count": 2,
   "id": "0cc9d9cb",
   "metadata": {},
   "outputs": [],
   "source": [
    "class WorkingTemperature(TemperatureModel):#inherits the temperature model to handle the units\n",
    "    \"\"\" A working temperature property\"\"\"\n",
    "    specifier_expr = ((I('heat')+I('-')+I('sink')+I('temperature')+I('of'))|(I('operating')+I('temperature'))|(I('operation')+I('temperature'))|(I('maximum')+I('temperature'))|(I('working')+I('temperature'))|(I('pulsed')+('mode'))|(I('continous')+I('wave')+I('mode'))|(I('maximum')+I('heat')+I('-')+I('sink')+I('temperature'))).add_action(join)\n",
    "    specifier = StringType(parse_expression=specifier_expr,required=True, contextual=True)\n",
    "    compound = ModelType(Compound,required=False,contextual=True)\n",
    "    compound.model_class.fields['names'].required = False\n",
    "    parsers = [AutoSentenceParser()]"
   ]
  },
  {
   "cell_type": "code",
   "execution_count": 3,
   "id": "ca51ee62",
   "metadata": {},
   "outputs": [],
   "source": [
    "# two sentences from the abstract, numbers changed a bit to better view the source of records\n",
    "s1 = Sentence('The laser operated up to a heat-sink temperature of 110K in pulsed mode, 95K in continuous wave (cw) mode, and the threshold current density at 5K was ∼140A∕cm2.')\n",
    "s2 = Sentence('In pulsed operation, the device lased up to a maximum heat-sink temperature (Tmax) of 111K. The threshold current density (Jth) at 6K was 142A∕cm2. ')\n",
    "s1.models = [WorkingTemperature]\n",
    "s2.models = [WorkingTemperature]"
   ]
  },
  {
   "cell_type": "code",
   "execution_count": 4,
   "id": "79c055bb",
   "metadata": {},
   "outputs": [],
   "source": [
    "sentence_parser = AutoSentenceParser(lenient=True)\n",
    "sentence_parser.model = WorkingTemperature"
   ]
  },
  {
   "cell_type": "code",
   "execution_count": 5,
   "id": "a4264297",
   "metadata": {},
   "outputs": [
    {
     "name": "stdout",
     "output_type": "stream",
     "text": [
      "b'<root_phrase><specifier>heat - sink temperature of</specifier><raw_value>110</raw_value><raw_units>K</raw_units><IN>in</IN><specifier>pulsed mode</specifier><COMMA>,</COMMA><raw_value>95</raw_value><raw_units>K</raw_units><IN>in</IN><JJ>continuous</JJ><NN>wave</NN><LRB>(</LRB><NN>cw</NN><RRB>)</RRB><NN>mode</NN><COMMA>,</COMMA><CC>and</CC><DT>the</DT><NN>threshold</NN><JJ>current</JJ><NN>density</NN><IN>at</IN><raw_value>5</raw_value><raw_units>K</raw_units></root_phrase>' \n",
      "\n",
      "[{'WorkingTemperature': {'raw_units': 'K',\n",
      "                         'raw_value': '110',\n",
      "                         'specifier': 'heat - sink temperature of',\n",
      "                         'units': 'Kelvin^(1.0)',\n",
      "                         'value': [110.0]}}]\n"
     ]
    }
   ],
   "source": [
    "for result in sentence_parser.root.scan(s1.tagged_tokens):\n",
    "    print(etree.tostring(result[0]), '\\n')\n",
    "pprint(s1.records.serialize())"
   ]
  },
  {
   "cell_type": "code",
   "execution_count": 6,
   "id": "2db86105",
   "metadata": {},
   "outputs": [
    {
     "name": "stdout",
     "output_type": "stream",
     "text": [
      "b'<root_phrase><specifier>maximum heat - sink temperature</specifier><LRB>(</LRB><NN>Tmax</NN><RRB>)</RRB><IN>of</IN><raw_value>111</raw_value><raw_units>K.</raw_units><DT>The</DT><NN>threshold</NN><JJ>current</JJ><NN>density</NN><LRB>(</LRB><NN>Jth</NN><RRB>)</RRB><IN>at</IN><raw_value>6</raw_value><raw_units>K</raw_units></root_phrase>' \n",
      "\n",
      "[{'WorkingTemperature': {'raw_units': 'K.',\n",
      "                         'raw_value': '111',\n",
      "                         'specifier': 'maximum heat - sink temperature',\n",
      "                         'units': 'Kelvin^(1.0)',\n",
      "                         'value': [111.0]}}]\n"
     ]
    }
   ],
   "source": [
    "for result in sentence_parser.root.scan(s2.tagged_tokens):\n",
    "    print(etree.tostring(result[0]), '\\n')\n",
    "pprint(s2.records.serialize())"
   ]
  }
 ],
 "metadata": {
  "kernelspec": {
   "display_name": "Python 3 (ipykernel)",
   "language": "python",
   "name": "python3"
  },
  "language_info": {
   "codemirror_mode": {
    "name": "ipython",
    "version": 3
   },
   "file_extension": ".py",
   "mimetype": "text/x-python",
   "name": "python",
   "nbconvert_exporter": "python",
   "pygments_lexer": "ipython3",
   "version": "3.7.9"
  }
 },
 "nbformat": 4,
 "nbformat_minor": 5
}
