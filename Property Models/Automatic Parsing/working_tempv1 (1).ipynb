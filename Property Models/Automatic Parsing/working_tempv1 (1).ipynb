{
 "cells": [
  {
   "cell_type": "code",
   "execution_count": 58,
   "id": "7fc1ef2a",
   "metadata": {},
   "outputs": [],
   "source": [
    "#ibraries\n",
    "from chemdataextractor import Document\n",
    "from chemdataextractor.model import BaseModel, Compound, StringType, ModelType\n",
    "from chemdataextractor.model.units import TemperatureModel, LengthModel\n",
    "from chemdataextractor.parse import R, I, W, Optional, merge, join, AutoSentenceParser\n",
    "from chemdataextractor.doc import Paragraph, Heading, Sentence\n",
    "from pprint import pprint"
   ]
  },
  {
   "cell_type": "code",
   "execution_count": 59,
   "id": "658d8af4",
   "metadata": {},
   "outputs": [
    {
     "name": "stdout",
     "output_type": "stream",
     "text": [
      "<Document: 280 elements>\n"
     ]
    }
   ],
   "source": [
    "#reading the document\n",
    "with open('html_files (2).html', 'rb') as f:\n",
    "    doc = Document.from_file(f)\n",
    "print(doc)"
   ]
  },
  {
   "cell_type": "code",
   "execution_count": 60,
   "id": "ec19594c",
   "metadata": {},
   "outputs": [
    {
     "data": {
      "text/plain": [
       "{'title': 'High performance 4.7 THz GaAs quantum cascade lasers based on four quantum wells', 'authors': ['Keita Ohtani', 'Dana Turčinková', 'Christopher Bonzon', 'Ileana-Cristina Benea-Chelmus', 'Mattias Beck', 'Jérôme Faist', 'Matthias Justen', 'Urs U Graf', 'Marc Mertens', 'Jürgen Stutzki'], 'publisher': 'IOP Publishing', 'journal': 'New Journal of Physics', 'date': '2016/12/02', 'language': 'en', 'volume': '18', 'issue': '12', 'firstpage': '123004', 'doi': '10.1088/1367-2630/18/12/123004', 'pdf_url': 'https://iopscience.iop.org/article/10.1088/1367-2630/18/12/123004/pdf', 'html_url': 'https://iopscience.iop.org/article/10.1088/1367-2630/18/12/123004/meta'}"
      ]
     },
     "execution_count": 60,
     "metadata": {},
     "output_type": "execute_result"
    }
   ],
   "source": [
    "#Document Metadata\n",
    "doc.metadata"
   ]
  },
  {
   "cell_type": "code",
   "execution_count": 61,
   "id": "04fd6657",
   "metadata": {},
   "outputs": [],
   "source": [
    "class WorkingTemperature(TemperatureModel):\n",
    "    \"\"\" A working temperature property\"\"\"\n",
    "    specifier_expr = ((I('heat-sink') + I('temperature'))|(I('operating')+I('temperature'))|(I('operation')+I('temperature'))|(I('maximum')+I('temperature'))|(I('working')+I('temperature'))|(I('pulsed')+('mode'))|(I('continous')+I('wave')+I('mode'))).add_action(join)\n",
    "    specifier = StringType(parse_expression=specifier_expr,required=False, contextual=True)\n",
    "    compound = ModelType(Compound,required=False,contextual=True)\n",
    "    compound.model_class.fields['names'].required = True\n",
    "    parsers = [AutoSentenceParser()]"
   ]
  },
  {
   "cell_type": "code",
   "execution_count": 62,
   "id": "909a5409",
   "metadata": {},
   "outputs": [
    {
     "name": "stdout",
     "output_type": "stream",
     "text": [
      "[{'WorkingTemperature': {'compound': {'Compound': {'names': ['Publishing '\n",
      "                                                             'Support']}},\n",
      "                         'raw_units': 'K',\n",
      "                         'raw_value': '150',\n",
      "                         'specifier': 'operation temperature',\n",
      "                         'units': 'Kelvin^(1.0)',\n",
      "                         'value': [150.0]}},\n",
      " {'WorkingTemperature': {'compound': {'Compound': {'names': ['THz',\n",
      "                                                             'terahertz']}},\n",
      "                         'raw_units': 'K',\n",
      "                         'raw_value': '150',\n",
      "                         'specifier': 'operation temperature',\n",
      "                         'units': 'Kelvin^(1.0)',\n",
      "                         'value': [150.0]}},\n",
      " {'WorkingTemperature': {'compound': {'Compound': {'names': ['Te']}},\n",
      "                         'raw_units': 'K',\n",
      "                         'raw_value': '10 to 50',\n",
      "                         'units': 'Kelvin^(1.0)',\n",
      "                         'value': [10.0, 50.0]}},\n",
      " {'WorkingTemperature': {'compound': {'Compound': {'names': ['Au–Au']}},\n",
      "                         'raw_units': 'K)(',\n",
      "                         'raw_value': '142',\n",
      "                         'units': 'Kelvin^(1.0)',\n",
      "                         'value': [142.0]}},\n",
      " {'WorkingTemperature': {'compound': {'Compound': {'names': ['Cu']}},\n",
      "                         'raw_units': 'K',\n",
      "                         'raw_value': '150',\n",
      "                         'specifier': 'operation temperature',\n",
      "                         'units': 'Kelvin^(1.0)',\n",
      "                         'value': [150.0]}},\n",
      " {'WorkingTemperature': {'compound': {'Compound': {'names': ['THz',\n",
      "                                                             'terahertz']}},\n",
      "                         'raw_units': 'K',\n",
      "                         'raw_value': '90 to 140',\n",
      "                         'units': 'Kelvin^(1.0)',\n",
      "                         'value': [90.0, 140.0]}},\n",
      " {'WorkingTemperature': {'compound': {'Compound': {'names': ['Publishing '\n",
      "                                                             'Support']}},\n",
      "                         'raw_units': 'K',\n",
      "                         'raw_value': '69',\n",
      "                         'units': 'Kelvin^(1.0)',\n",
      "                         'value': [69.0]}},\n",
      " {'WorkingTemperature': {'raw_units': 'K',\n",
      "                         'raw_value': '105',\n",
      "                         'units': 'Kelvin^(1.0)',\n",
      "                         'value': [105.0]}},\n",
      " {'WorkingTemperature': {'compound': {'Compound': {'names': ['Publishing '\n",
      "                                                             'Support']}},\n",
      "                         'raw_units': 'K',\n",
      "                         'raw_value': '10',\n",
      "                         'units': 'Kelvin^(1.0)',\n",
      "                         'value': [10.0]}},\n",
      " {'WorkingTemperature': {'compound': {'Compound': {'names': ['Ni']}},\n",
      "                         'raw_units': 'K',\n",
      "                         'raw_value': '40',\n",
      "                         'units': 'Kelvin^(1.0)',\n",
      "                         'value': [40.0]}},\n",
      " {'WorkingTemperature': {'compound': {'Compound': {'names': ['Publishing '\n",
      "                                                             'Support']}},\n",
      "                         'raw_units': 'K',\n",
      "                         'raw_value': '40',\n",
      "                         'units': 'Kelvin^(1.0)',\n",
      "                         'value': [40.0]}},\n",
      " {'WorkingTemperature': {'compound': {'Compound': {'names': ['Publishing '\n",
      "                                                             'Support']}},\n",
      "                         'raw_units': 'K',\n",
      "                         'raw_value': '40–50',\n",
      "                         'units': 'Kelvin^(1.0)',\n",
      "                         'value': [40.0, 50.0]}},\n",
      " {'WorkingTemperature': {'compound': {'Compound': {'names': ['THz',\n",
      "                                                             'terahertz']}},\n",
      "                         'raw_units': 'K',\n",
      "                         'raw_value': '45',\n",
      "                         'units': 'Kelvin^(1.0)',\n",
      "                         'value': [45.0]}},\n",
      " {'WorkingTemperature': {'compound': {'Compound': {'names': ['Publishing '\n",
      "                                                             'Support']}},\n",
      "                         'raw_units': 'K',\n",
      "                         'raw_value': '75',\n",
      "                         'specifier': 'operation temperature',\n",
      "                         'units': 'Kelvin^(1.0)',\n",
      "                         'value': [75.0]}},\n",
      " {'WorkingTemperature': {'compound': {'Compound': {'names': ['Publishing '\n",
      "                                                             'Support']}},\n",
      "                         'raw_units': 'K',\n",
      "                         'raw_value': '46.0',\n",
      "                         'units': 'Kelvin^(1.0)',\n",
      "                         'value': [46.0]}},\n",
      " {'WorkingTemperature': {'compound': {'Compound': {'names': ['3']}},\n",
      "                         'raw_units': 'K',\n",
      "                         'raw_value': '150',\n",
      "                         'units': 'Kelvin^(1.0)',\n",
      "                         'value': [150.0]}},\n",
      " {'WorkingTemperature': {'compound': {'Compound': {'names': ['Publishing '\n",
      "                                                             'Support']}},\n",
      "                         'raw_units': 'K',\n",
      "                         'raw_value': '50',\n",
      "                         'specifier': 'operation temperature',\n",
      "                         'units': 'Kelvin^(1.0)',\n",
      "                         'value': [50.0]}}]\n"
     ]
    }
   ],
   "source": [
    "doc.models = [WorkingTemperature]\n",
    "results = doc.records.serialize()\n",
    "pprint(results)"
   ]
  },
  {
   "cell_type": "code",
   "execution_count": null,
   "id": "79910781",
   "metadata": {},
   "outputs": [],
   "source": []
  }
 ],
 "metadata": {
  "kernelspec": {
   "display_name": "Python 3 (ipykernel)",
   "language": "python",
   "name": "python3"
  },
  "language_info": {
   "codemirror_mode": {
    "name": "ipython",
    "version": 3
   },
   "file_extension": ".py",
   "mimetype": "text/x-python",
   "name": "python",
   "nbconvert_exporter": "python",
   "pygments_lexer": "ipython3",
   "version": "3.7.9"
  }
 },
 "nbformat": 4,
 "nbformat_minor": 5
}
