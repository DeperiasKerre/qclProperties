{
 "cells": [
  {
   "cell_type": "code",
   "execution_count": 15,
   "id": "5331162e",
   "metadata": {},
   "outputs": [],
   "source": [
    "#future imports\n",
    "from __future__ import absolute_import\n",
    "from __future__ import division\n",
    "from __future__ import print_function\n",
    "from __future__ import unicode_literals"
   ]
  },
  {
   "cell_type": "code",
   "execution_count": 16,
   "id": "db4fea56",
   "metadata": {},
   "outputs": [],
   "source": [
    "#libraries\n",
    "from chemdataextractor import Document\n",
    "from chemdataextractor.model import BaseModel, Compound, StringType, ModelType\n",
    "from chemdataextractor.model.units import TemperatureModel, LengthModel\n",
    "from chemdataextractor.parse import R, I, W, Optional, merge, join, AutoSentenceParser\n",
    "from chemdataextractor.parse.elements import W, I, R, Optional, Any, OneOrMore, Not, ZeroOrMore\n",
    "from chemdataextractor.doc import Paragraph, Heading, Sentence\n",
    "from lxml import etree\n",
    "from pprint import pprint"
   ]
  },
  {
   "cell_type": "code",
   "execution_count": 17,
   "id": "0ee8353b",
   "metadata": {},
   "outputs": [],
   "source": [
    "#Defining the frequency model to handle the frequency units and its conversions\n",
    "from chemdataextractor.model.units.dimension import Dimension\n",
    "from chemdataextractor.model.units.quantity_model import QuantityModel\n",
    "from chemdataextractor.model.units.unit import Unit\n",
    "import logging\n",
    "log = logging.getLogger(__name__)\n",
    "\n",
    "class barrierthickness(Dimension):\n",
    "    \"\"\"\n",
    "    Dimension subclass for the qcl barrier thickness.\n",
    "    \"\"\"\n",
    "    pass\n",
    "\n",
    "\n",
    "class BarrierThicknessModel(QuantityModel):\n",
    "    dimensions = barrierthickness()\n",
    "\n",
    "\n",
    "class barrierthicknessUnit(Unit):\n",
    "\n",
    "    def __init__(self, magnitude=0.0, powers=None):\n",
    "        super(barrierthicknessUnit, self).__init__(barrierthickness(), magnitude, powers)\n",
    "\n",
    "\n",
    "class Nanometers(barrierthicknessUnit):\n",
    "    \"\"\"\n",
    "    Class for barrier thickness in nanometers.\n",
    "    \"\"\"\n",
    "\n",
    "    def convert_value_to_standard(self, value):\n",
    "        return value\n",
    "\n",
    "    def convert_value_from_standard(self, value):\n",
    "        return value\n",
    "\n",
    "    def convert_error_to_standard(self, error):\n",
    "        return error\n",
    "\n",
    "    def convert_error_from_standard(self, error):\n",
    "        return error\n",
    "    \n",
    "class Angstrom(barrierthicknessUnit):\n",
    "    \"\"\"\n",
    "    Class for barrier thickness in nanometers.\n",
    "    \"\"\"\n",
    "\n",
    "    def convert_value_to_standard(self, value):\n",
    "        return value/10\n",
    "\n",
    "    def convert_value_from_standard(self, value):\n",
    "        return value*10\n",
    "    def convert_error_to_standard(self, error):\n",
    "        return error\n",
    "    \n",
    "    def convert_error_from_standard(self, error):\n",
    "        return error\n",
    "\n",
    "\n",
    "units_dict = {R('((nm|\\(nm\\)|(N|n)anometers))\\.?', group=0): Nanometers, R('Å|\\(Å\\)|((A|a)ngstrom)\\.?', group=0): Angstrom}\n",
    "barrierthickness.units_dict.update(units_dict)\n",
    "barrierthickness.standard_units = Nanometers()"
   ]
  },
  {
   "cell_type": "code",
   "execution_count": 18,
   "id": "66894b04",
   "metadata": {},
   "outputs": [],
   "source": [
    "#the barrier thickness property model with autosentence parser\n",
    "class BarrierThickness(BarrierThicknessModel):\n",
    "    \"\"\" The Barrier Thickness Property\"\"\"\n",
    "    specifier_expr = (I('layer')+I('thickness')|I('layer')+I('sequences')).add_action(join)\n",
    "    specifier = StringType(parse_expression=specifier_expr,required=True, contextual=True)\n",
    "    compound = ModelType(Compound,required=False,contextual=True)\n",
    "    compound.model_class.fields['names'].required = True"
   ]
  },
  {
   "cell_type": "code",
   "execution_count": 19,
   "id": "ecf3a273",
   "metadata": {},
   "outputs": [],
   "source": [
    "#setting the parser to the autosentence parser\n",
    "BarrierThickness.parsers = [AutoSentenceParser()]\n",
    "sentence_parser = AutoSentenceParser\n",
    "sentence_parser.model = BarrierThickness"
   ]
  },
  {
   "cell_type": "code",
   "execution_count": 20,
   "id": "a8a64c56",
   "metadata": {},
   "outputs": [],
   "source": [
    "#sample sentences from journal papers\n",
    "s1=  Sentence('The layer sequence of one period for the active region is as following: 5.2/10.3/1.7/10.75/3.6/8.8/3.95/17.2 nm.')\n",
    "s2 = Sentence('The Al0.15Ga0.85As/GaAs layer sequence in each stage of the active region is 3.8/14.0/0.6/9.0/0.6/15.8/1.5/12.8/1.8/12.2/2.0/12.0/2.0/11.4/2.7/11.3/3.5/11.6 (nm).')\n",
    "s3 = Sentence('The improved structure has layer sequence 31/93/14/73.4/23/155.4/11/110.2/14/84.7/20/155.4/17/110.1 Å, where altered layers are highlighted in red (and italicized well is doped to 3.15 × 1016 cm−3).')\n",
    "s4 = Sentence('Starting at the right-hand injector well, the layer thicknesses in Å are 155/41/65/25/79/55/90/ 30.')"
   ]
  },
  {
   "cell_type": "code",
   "execution_count": 21,
   "id": "9b590de3",
   "metadata": {},
   "outputs": [],
   "source": [
    "#setting the property model to the sentences\n",
    "s1.models=[BarrierThickness]\n",
    "s2.models=[BarrierThickness]\n",
    "s3.models=[BarrierThickness]\n",
    "s4.models=[BarrierThickness]"
   ]
  },
  {
   "cell_type": "code",
   "execution_count": 23,
   "id": "5c1507f7",
   "metadata": {},
   "outputs": [
    {
     "name": "stdout",
     "output_type": "stream",
     "text": [
      "[{'BarrierThickness': {'raw_units': 'nm',\n",
      "                       'raw_value': '17.2',\n",
      "                       'units': 'Nanometers^(1.0)',\n",
      "                       'value': [17.2]}}]\n"
     ]
    }
   ],
   "source": [
    "#barrier thickness record in s1\n",
    "pprint(s1.records.serialize())"
   ]
  },
  {
   "cell_type": "markdown",
   "id": "135a7cab",
   "metadata": {},
   "source": [
    "From the above output, the autosentence parser only recognizes the last value in the layer sequence."
   ]
  },
  {
   "cell_type": "code",
   "execution_count": 24,
   "id": "2b644532",
   "metadata": {},
   "outputs": [
    {
     "name": "stdout",
     "output_type": "stream",
     "text": [
      "[{'BarrierThickness': {'compound': {'Compound': {'names': ['Al0.15Ga0.85As / '\n",
      "                                                           'GaAs']}},\n",
      "                       'raw_units': '(nm)',\n",
      "                       'raw_value': '11.6',\n",
      "                       'units': 'Nanometers^(1.0)',\n",
      "                       'value': [11.6]}},\n",
      " {'Compound': {'names': ['Al0.15Ga0.85As / GaAs']}}]\n"
     ]
    }
   ],
   "source": [
    "#barrier thickness record in s2\n",
    "pprint(s2.records.serialize())"
   ]
  },
  {
   "cell_type": "markdown",
   "id": "42408425",
   "metadata": {},
   "source": [
    "From the above output also, the autosentence parser only recognizes the last value in the layer sequence."
   ]
  },
  {
   "cell_type": "code",
   "execution_count": 25,
   "id": "a8986c9f",
   "metadata": {},
   "outputs": [
    {
     "name": "stdout",
     "output_type": "stream",
     "text": [
      "[{'BarrierThickness': {'raw_units': 'Å',\n",
      "                       'raw_value': '110.1',\n",
      "                       'units': 'Angstrom^(1.0)',\n",
      "                       'value': [110.1]}}]\n"
     ]
    }
   ],
   "source": [
    "#barrier thickness record in s3\n",
    "pprint(s3.records.serialize())"
   ]
  },
  {
   "cell_type": "markdown",
   "id": "83b3569c",
   "metadata": {},
   "source": [
    "From the above output also, the autosentence parser only recognizes the last value in the layer sequence."
   ]
  },
  {
   "cell_type": "code",
   "execution_count": 26,
   "id": "1b58b674",
   "metadata": {},
   "outputs": [
    {
     "name": "stdout",
     "output_type": "stream",
     "text": [
      "[]\n"
     ]
    }
   ],
   "source": [
    "#barrier thickness record in s4\n",
    "pprint(s4.records.serialize())"
   ]
  },
  {
   "cell_type": "markdown",
   "id": "c2fbdf95",
   "metadata": {},
   "source": [
    "For the above case, no the layer sequence is mentioned without the value following it. The autosentence parser deos not match it. This is the case with most of the layer/sequence thickness mentioned in the papers."
   ]
  }
 ],
 "metadata": {
  "kernelspec": {
   "display_name": "Python 3 (ipykernel)",
   "language": "python",
   "name": "python3"
  },
  "language_info": {
   "codemirror_mode": {
    "name": "ipython",
    "version": 3
   },
   "file_extension": ".py",
   "mimetype": "text/x-python",
   "name": "python",
   "nbconvert_exporter": "python",
   "pygments_lexer": "ipython3",
   "version": "3.7.9"
  }
 },
 "nbformat": 4,
 "nbformat_minor": 5
}
