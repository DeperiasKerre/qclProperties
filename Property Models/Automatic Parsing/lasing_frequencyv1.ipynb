{
 "cells": [
  {
   "cell_type": "code",
   "execution_count": 1,
   "id": "edf0c2fd",
   "metadata": {},
   "outputs": [],
   "source": [
    "#future imports\n",
    "from __future__ import absolute_import\n",
    "from __future__ import division\n",
    "from __future__ import print_function\n",
    "from __future__ import unicode_literals"
   ]
  },
  {
   "cell_type": "code",
   "execution_count": 2,
   "id": "0a7851a5",
   "metadata": {},
   "outputs": [],
   "source": [
    "#libraries\n",
    "from chemdataextractor import Document\n",
    "from chemdataextractor.model import BaseModel, Compound, StringType, ModelType\n",
    "from chemdataextractor.model.units import TemperatureModel, LengthModel\n",
    "from chemdataextractor.parse import R, I, W, Optional, merge, join, AutoSentenceParser\n",
    "from chemdataextractor.parse.elements import W, I, R, Optional, Any, OneOrMore, Not, ZeroOrMore\n",
    "from chemdataextractor.doc import Paragraph, Heading, Sentence\n",
    "from lxml import etree\n",
    "from pprint import pprint"
   ]
  },
  {
   "cell_type": "code",
   "execution_count": 3,
   "id": "766adbbb",
   "metadata": {},
   "outputs": [],
   "source": [
    "#Defining the frequency model to handle the frequency units and its conversions\n",
    "from chemdataextractor.model.units.dimension import Dimension\n",
    "from chemdataextractor.model.units.quantity_model import QuantityModel\n",
    "from chemdataextractor.model.units.unit import Unit\n",
    "from chemdataextractor.model.units.charge import Charge\n",
    "from chemdataextractor.model.units.energy import Energy\n",
    "from chemdataextractor.model.units.electric_potential import ElectricPotential\n",
    "from chemdataextractor.model.units.current import ElectricalCurrent\n",
    "import logging\n",
    "log = logging.getLogger(__name__)\n",
    "\n",
    "class Frequency(Dimension):\n",
    "    \"\"\"\n",
    "    Dimension subclass for frequencies.\n",
    "    \"\"\"\n",
    "    pass\n",
    "\n",
    "\n",
    "class FrequencyModel(QuantityModel):\n",
    "    dimensions = Frequency()\n",
    "\n",
    "\n",
    "class FrequencyUnit(Unit):\n",
    "\n",
    "    def __init__(self, magnitude=0.0, powers=None):\n",
    "        super(FrequencyUnit, self).__init__(Frequency(), magnitude, powers)\n",
    "\n",
    "\n",
    "class Hertz(FrequencyUnit):\n",
    "\n",
    "    def convert_value_to_standard(self, value):\n",
    "        return value\n",
    "\n",
    "    def convert_value_from_standard(self, value):\n",
    "        return value\n",
    "\n",
    "    def convert_error_to_standard(self, error):\n",
    "        return error\n",
    "\n",
    "    def convert_error_from_standard(self, error):\n",
    "        return error\n",
    "    \n",
    "class megahertz(FrequencyUnit):\n",
    "    \"\"\"\n",
    "    Class for frequency in megahertz\n",
    "    \"\"\"\n",
    "\n",
    "    def convert_value_to_standard(self, value):\n",
    "        return value*1000000\n",
    "\n",
    "    def convert_value_from_standard(self, value):\n",
    "        return value/1000000\n",
    "    def convert_error_to_standard(self, error):\n",
    "        return error\n",
    "\n",
    "    def convert_error_from_standard(self, error):\n",
    "        return error\n",
    "    \n",
    "class terahertz(FrequencyUnit):\n",
    "    \"\"\"\n",
    "    Class for frequency in terahertz\n",
    "    \"\"\"\n",
    "\n",
    "    def convert_value_to_standard(self, value):\n",
    "        return value*1000000000000\n",
    "\n",
    "    def convert_value_from_standard(self, value):\n",
    "        return value/1000000000000\n",
    "    def convert_error_to_standard(self, error):\n",
    "        return error\n",
    "\n",
    "    def convert_error_from_standard(self, error):\n",
    "        return error\n",
    "\n",
    "units_dict = {R('((Hz|(H|h)ertz))\\.?', group=0): Hertz, R('mHz|((m|M)ega(H|h)ertz)\\.?', group=0): megahertz, R('THz|((t|T)era(H|h)ertz)\\.?', group=0): terahertz}\n",
    "Frequency.units_dict.update(units_dict)\n",
    "Frequency.standard_units = Hertz()"
   ]
  },
  {
   "cell_type": "code",
   "execution_count": 4,
   "id": "26804395",
   "metadata": {},
   "outputs": [],
   "source": [
    "#lasing frequency property model\n",
    "class LasingFrequency(FrequencyModel):#inherits the defined frequency model to handle the units\n",
    "    \"\"\" The Lasing Frequency Property\"\"\"\n",
    "    specifier_expr = (I('operating')+I('predominantly')+I('at')|I('emmission')+I('frequency')|I('lasing')+I('predominantly')+I('at')+I('a')+I('frequency')|I('lasing')+I('frequency')|I('cutoff')+I('frequency')|I('corresponding')+I('to')|I('broad')+I('spectral')+I('range')).add_action(join)\n",
    "    specifier = StringType(parse_expression=specifier_expr,required=True, contextual=True)\n",
    "    compound = ModelType(Compound,required=False,contextual=True)\n",
    "    compound.model_class.fields['names'].required = True\n",
    "    parsers = [AutoSentenceParser()]#using the default parser"
   ]
  },
  {
   "cell_type": "code",
   "execution_count": 5,
   "id": "215ca614",
   "metadata": {},
   "outputs": [],
   "source": [
    "#sample sentence from the qcl journals\n",
    "s1=  Sentence('which is considerably higher than that achieved for previously reported THz QCLs operating around the frequency of 2 THz.')"
   ]
  },
  {
   "cell_type": "code",
   "execution_count": 6,
   "id": "2d767a76",
   "metadata": {},
   "outputs": [],
   "source": [
    "#specifying the model to be used for extracting the temperature values\n",
    "s1.models = [LasingFrequency]"
   ]
  },
  {
   "cell_type": "code",
   "execution_count": 7,
   "id": "6670787c",
   "metadata": {},
   "outputs": [
    {
     "name": "stdout",
     "output_type": "stream",
     "text": [
      "[{'LasingFrequency': {'raw_units': 'THz',\n",
      "                      'raw_value': '2',\n",
      "                      'units': 'terahertz^(1.0)',\n",
      "                      'value': [2.0]}}]\n"
     ]
    }
   ],
   "source": [
    "pprint(s1.records.serialize())"
   ]
  },
  {
   "cell_type": "code",
   "execution_count": 8,
   "id": "1988a6dd",
   "metadata": {},
   "outputs": [
    {
     "name": "stdout",
     "output_type": "stream",
     "text": [
      "<Document: 204 elements>\n"
     ]
    }
   ],
   "source": [
    "#reading a sample journal paper\n",
    "with open('345.html', 'rb') as f:\n",
    "    doc = Document.from_file(f)\n",
    "print(doc)"
   ]
  },
  {
   "cell_type": "code",
   "execution_count": 9,
   "id": "4c237f37",
   "metadata": {},
   "outputs": [
    {
     "data": {
      "text/plain": [
       "{'title': '3.4-THz quantum cascade laser based on longitudinal-optical-phonon scattering for depopulation', 'authors': ['Benjamin S.  Williams', 'Hans  Callebaut', 'Sushil  Kumar', 'Qing  Hu', 'John L.  Reno'], 'publisher': 'American Institute of PhysicsAIP', 'journal': 'Applied Physics Letters', 'date': '2003-02-17', 'volume': '82', 'issue': '7', 'firstpage': '1015', 'doi': '10.1063/1.1554479', 'pdf_url': 'https://aip.scitation.org/doi/pdf/10.1063/1.1554479', 'html_url': 'https://aip.scitation.org/doi/abs/10.1063/1.1554479'}"
      ]
     },
     "execution_count": 9,
     "metadata": {},
     "output_type": "execute_result"
    }
   ],
   "source": [
    "#Document Metadata\n",
    "doc.metadata"
   ]
  },
  {
   "cell_type": "code",
   "execution_count": 10,
   "id": "e9aa8167",
   "metadata": {},
   "outputs": [
    {
     "name": "stdout",
     "output_type": "stream",
     "text": [
      "[{'LasingFrequency': {'compound': {'Compound': {'names': ['SIGN IN']}},\n",
      "                      'raw_units': 'THz',\n",
      "                      'raw_value': '3.44',\n",
      "                      'specifier': 'corresponding to',\n",
      "                      'units': 'terahertz^(1.0)',\n",
      "                      'value': [3.44]}}]\n"
     ]
    }
   ],
   "source": [
    "#Extracting the temperature property from the document\n",
    "doc.models = [LasingFrequency]\n",
    "results=doc.records.serialize()\n",
    "pprint(results)"
   ]
  }
 ],
 "metadata": {
  "kernelspec": {
   "display_name": "Python 3 (ipykernel)",
   "language": "python",
   "name": "python3"
  },
  "language_info": {
   "codemirror_mode": {
    "name": "ipython",
    "version": 3
   },
   "file_extension": ".py",
   "mimetype": "text/x-python",
   "name": "python",
   "nbconvert_exporter": "python",
   "pygments_lexer": "ipython3",
   "version": "3.7.9"
  }
 },
 "nbformat": 4,
 "nbformat_minor": 5
}
